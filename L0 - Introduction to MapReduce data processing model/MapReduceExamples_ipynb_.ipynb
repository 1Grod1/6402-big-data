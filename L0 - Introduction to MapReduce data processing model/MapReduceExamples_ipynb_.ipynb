{
  "nbformat": 4,
  "nbformat_minor": 0,
  "metadata": {
    "colab": {
      "provenance": []
    },
    "kernelspec": {
      "name": "python3",
      "display_name": "Python 3"
    }
  },
  "cells": [
    {
      "cell_type": "markdown",
      "metadata": {
        "id": "82OvPKEiEqjc"
      },
      "source": [
        "# Введение в MapReduce модель на Python\n"
      ]
    },
    {
      "cell_type": "code",
      "metadata": {
        "id": "JQ2cvXLjICmI"
      },
      "source": [
        "from typing import NamedTuple # requires python 3.6+\n",
        "from typing import Iterator"
      ],
      "execution_count": null,
      "outputs": []
    },
    {
      "cell_type": "code",
      "metadata": {
        "id": "yjPHumVwEyEg"
      },
      "source": [
        "def MAP(_, row:NamedTuple):\n",
        "  if (row.gender == 'female'):\n",
        "    yield (row.age, row)\n",
        "\n",
        "def REDUCE(age:str, rows:Iterator[NamedTuple]):\n",
        "  sum = 0\n",
        "  count = 0\n",
        "  for row in rows:\n",
        "    sum += row.social_contacts\n",
        "    count += 1\n",
        "  if (count > 0):\n",
        "    yield (age, sum/count)\n",
        "  else:\n",
        "    yield (age, 0)"
      ],
      "execution_count": null,
      "outputs": []
    },
    {
      "cell_type": "markdown",
      "metadata": {
        "id": "vBKMgpG_ilaZ"
      },
      "source": [
        "Модель элемента данных"
      ]
    },
    {
      "cell_type": "code",
      "metadata": {
        "id": "Rv-XIjhTJPx3"
      },
      "source": [
        "class User(NamedTuple):\n",
        "  id: int\n",
        "  age: str\n",
        "  social_contacts: int\n",
        "  gender: str"
      ],
      "execution_count": null,
      "outputs": []
    },
    {
      "cell_type": "code",
      "metadata": {
        "id": "5KV0Ze2vQgu5"
      },
      "source": [
        "input_collection = [\n",
        "    User(id=0, age=55, gender='male', social_contacts=20),\n",
        "    User(id=1, age=25, gender='female', social_contacts=240),\n",
        "    User(id=2, age=25, gender='female', social_contacts=500),\n",
        "    User(id=3, age=33, gender='female', social_contacts=800)\n",
        "]"
      ],
      "execution_count": null,
      "outputs": []
    },
    {
      "cell_type": "markdown",
      "metadata": {
        "id": "YFeqzyZxZIFZ"
      },
      "source": [
        "Функция RECORDREADER моделирует чтение элементов с диска или по сети."
      ]
    },
    {
      "cell_type": "code",
      "metadata": {
        "id": "S5HR4E_GQoMJ"
      },
      "source": [
        "def RECORDREADER():\n",
        "  return [(u.id, u) for u in input_collection]"
      ],
      "execution_count": null,
      "outputs": []
    },
    {
      "cell_type": "code",
      "metadata": {
        "id": "NeEoWla-ROUy",
        "colab": {
          "base_uri": "https://localhost:8080/"
        },
        "outputId": "aedb8e6b-9b5a-40a6-9c74-0ea6a8de1bc3"
      },
      "source": [
        "list(RECORDREADER())"
      ],
      "execution_count": null,
      "outputs": [
        {
          "output_type": "execute_result",
          "data": {
            "text/plain": [
              "[(0, User(id=0, age=55, social_contacts=20, gender='male')),\n",
              " (1, User(id=1, age=25, social_contacts=240, gender='female')),\n",
              " (2, User(id=2, age=25, social_contacts=500, gender='female')),\n",
              " (3, User(id=3, age=33, social_contacts=800, gender='female'))]"
            ]
          },
          "metadata": {},
          "execution_count": 6
        }
      ]
    },
    {
      "cell_type": "code",
      "metadata": {
        "id": "YB8orgPSZs8M"
      },
      "source": [
        "def flatten(nested_iterable):\n",
        "  for iterable in nested_iterable:\n",
        "    for element in iterable:\n",
        "      yield element"
      ],
      "execution_count": null,
      "outputs": []
    },
    {
      "cell_type": "code",
      "metadata": {
        "id": "74oyvDLaRmd5",
        "colab": {
          "base_uri": "https://localhost:8080/"
        },
        "outputId": "7141801c-2a47-406a-949d-290f65171cbc"
      },
      "source": [
        "map_output = flatten(map(lambda x: MAP(*x), RECORDREADER()))\n",
        "map_output = list(map_output) # materialize\n",
        "map_output"
      ],
      "execution_count": null,
      "outputs": [
        {
          "output_type": "execute_result",
          "data": {
            "text/plain": [
              "[(25, User(id=1, age=25, social_contacts=240, gender='female')),\n",
              " (25, User(id=2, age=25, social_contacts=500, gender='female')),\n",
              " (33, User(id=3, age=33, social_contacts=800, gender='female'))]"
            ]
          },
          "metadata": {},
          "execution_count": 9
        }
      ]
    },
    {
      "cell_type": "code",
      "metadata": {
        "id": "8ncYDJ3-VzDn"
      },
      "source": [
        "def groupbykey(iterable):\n",
        "  t = {}\n",
        "  for (k2, v2) in iterable:\n",
        "    t[k2] = t.get(k2, []) + [v2]\n",
        "  return t.items()"
      ],
      "execution_count": null,
      "outputs": []
    },
    {
      "cell_type": "code",
      "metadata": {
        "id": "cKzY_6COWOA2",
        "colab": {
          "base_uri": "https://localhost:8080/",
          "height": 85
        },
        "outputId": "e6791b12-e409-47e9-bcd4-e9f8ca8611bd"
      },
      "source": [
        "shuffle_output = groupbykey(map_output)\n",
        "shuffle_output = list(shuffle_output)\n",
        "shuffle_output"
      ],
      "execution_count": null,
      "outputs": [
        {
          "output_type": "execute_result",
          "data": {
            "text/plain": [
              "[(25,\n",
              "  [User(id=1, age=25, social_contacts=240, gender='female'),\n",
              "   User(id=2, age=25, social_contacts=500, gender='female')]),\n",
              " (33, [User(id=3, age=33, social_contacts=800, gender='female')])]"
            ]
          },
          "metadata": {
            "tags": []
          },
          "execution_count": 24
        }
      ]
    },
    {
      "cell_type": "code",
      "metadata": {
        "id": "NlA7lkDDYL0t",
        "colab": {
          "base_uri": "https://localhost:8080/",
          "height": 34
        },
        "outputId": "6b25d03f-5c92-4f3b-f500-6d70acd598b7"
      },
      "source": [
        "reduce_output = flatten(map(lambda x: REDUCE(*x), shuffle_output))\n",
        "reduce_output = list(reduce_output)\n",
        "reduce_output"
      ],
      "execution_count": null,
      "outputs": [
        {
          "output_type": "execute_result",
          "data": {
            "text/plain": [
              "[(25, 370.0), (33, 800.0)]"
            ]
          },
          "metadata": {
            "tags": []
          },
          "execution_count": 25
        }
      ]
    },
    {
      "cell_type": "markdown",
      "metadata": {
        "id": "xf6qhHEtd6bI"
      },
      "source": [
        "Все действия одним конвейером!"
      ]
    },
    {
      "cell_type": "code",
      "metadata": {
        "id": "dZaQGYxCdpw5",
        "colab": {
          "base_uri": "https://localhost:8080/",
          "height": 34
        },
        "outputId": "3f5c6425-e5c5-49d2-b2cd-ce58a9acc33c"
      },
      "source": [
        "list(flatten(map(lambda x: REDUCE(*x), groupbykey(flatten(map(lambda x: MAP(*x), RECORDREADER()))))))"
      ],
      "execution_count": null,
      "outputs": [
        {
          "output_type": "execute_result",
          "data": {
            "text/plain": [
              "[(25, 370.0), (33, 800.0)]"
            ]
          },
          "metadata": {
            "tags": []
          },
          "execution_count": 26
        }
      ]
    },
    {
      "cell_type": "markdown",
      "metadata": {
        "id": "Vq3EWRIpwSiJ"
      },
      "source": [
        "# **MapReduce**\n",
        "Выделим общую для всех пользователей часть системы в отдельную функцию высшего порядка. Это наиболее простая модель MapReduce, без учёта распределённого хранения данных.\n",
        "\n",
        "Пользователь для решения своей задачи реализует RECORDREADER, MAP, REDUCE."
      ]
    },
    {
      "cell_type": "code",
      "metadata": {
        "id": "V1PZeQMwwVjc"
      },
      "source": [
        "def flatten(nested_iterable):\n",
        "  for iterable in nested_iterable:\n",
        "    for element in iterable:\n",
        "      yield element\n",
        "\n",
        "def groupbykey(iterable):\n",
        "  t = {}\n",
        "  for (k2, v2) in iterable:\n",
        "    t[k2] = t.get(k2, []) + [v2]\n",
        "  return t.items()\n",
        "\n",
        "def MapReduce(RECORDREADER, MAP, REDUCE):\n",
        "  return flatten(map(lambda x: REDUCE(*x), groupbykey(flatten(map(lambda x: MAP(*x), RECORDREADER())))))"
      ],
      "execution_count": null,
      "outputs": []
    },
    {
      "cell_type": "markdown",
      "metadata": {
        "id": "iFIVrimep678"
      },
      "source": [
        "## Спецификация MapReduce\n",
        "\n",
        "\n",
        "\n",
        "```\n",
        "f (k1, v1) -> (k2,v2)*\n",
        "g (k2, v2*) -> (k3,v3)*\n",
        "\n",
        "mapreduce ((k1,v1)*) -> (k3,v3)*\n",
        "groupby ((k2,v2)*) -> (k2,v2*)*\n",
        "flatten (e2**) -> e2*\n",
        "\n",
        "mapreduce .map(f).flatten.groupby(k2).map(g).flatten\n",
        "```\n",
        "\n",
        "\n"
      ]
    },
    {
      "cell_type": "markdown",
      "metadata": {
        "id": "QtTFyqke3KGe"
      },
      "source": [
        "# Примеры"
      ]
    },
    {
      "cell_type": "markdown",
      "metadata": {
        "id": "BNhh5763w5Vn"
      },
      "source": [
        "## SQL"
      ]
    },
    {
      "cell_type": "code",
      "metadata": {
        "id": "QkyurnvGxBGk",
        "colab": {
          "base_uri": "https://localhost:8080/"
        },
        "outputId": "d323f67e-d361-45be-b56c-1978f5c6e79a"
      },
      "source": [
        "from typing import NamedTuple # requires python 3.6+\n",
        "from typing import Iterator\n",
        "\n",
        "class User(NamedTuple):\n",
        "  id: int\n",
        "  age: str\n",
        "  social_contacts: int\n",
        "  gender: str\n",
        "\n",
        "input_collection = [\n",
        "    User(id=0, age=55, gender='male', social_contacts=20),\n",
        "    User(id=1, age=25, gender='female', social_contacts=240),\n",
        "    User(id=2, age=25, gender='female', social_contacts=500),\n",
        "    User(id=3, age=33, gender='female', social_contacts=800)\n",
        "]\n",
        "\n",
        "def MAP(_, row:NamedTuple):\n",
        "  if (row.gender == 'female'):\n",
        "    yield (row.age, row)\n",
        "\n",
        "def REDUCE(age:str, rows:Iterator[NamedTuple]):\n",
        "  sum = 0\n",
        "  count = 0\n",
        "  for row in rows:\n",
        "    sum += row.social_contacts\n",
        "    count += 1\n",
        "  if (count > 0):\n",
        "    yield (age, sum/count)\n",
        "  else:\n",
        "    yield (age, 0)\n",
        "\n",
        "def RECORDREADER():\n",
        "  return [(u.id, u) for u in input_collection]\n",
        "\n",
        "output = MapReduce(RECORDREADER, MAP, REDUCE)\n",
        "output = list(output)\n",
        "output"
      ],
      "execution_count": null,
      "outputs": [
        {
          "output_type": "execute_result",
          "data": {
            "text/plain": [
              "[(25, 370.0), (33, 800.0)]"
            ]
          },
          "metadata": {},
          "execution_count": 8
        }
      ]
    },
    {
      "cell_type": "markdown",
      "metadata": {
        "id": "kNKYIeerx0nY"
      },
      "source": [
        "## Matrix-Vector multiplication"
      ]
    },
    {
      "cell_type": "code",
      "metadata": {
        "id": "rwcntRcCyi1V",
        "colab": {
          "base_uri": "https://localhost:8080/"
        },
        "outputId": "c0f9a316-4bcd-4c5f-96e6-8ce53f961b94"
      },
      "source": [
        "from typing import Iterator\n",
        "import numpy as np\n",
        "\n",
        "mat = np.ones((5,4))\n",
        "vec = np.random.rand(4) # in-memory vector in all map tasks\n",
        "\n",
        "def MAP(coordinates:(int, int), value:int):\n",
        "  i, j = coordinates\n",
        "  yield (i, value*vec[j])\n",
        "\n",
        "def REDUCE(i:int, products:Iterator[NamedTuple]):\n",
        "  sum = 0\n",
        "  for p in products:\n",
        "    sum += p\n",
        "  yield (i, sum)\n",
        "\n",
        "def RECORDREADER():\n",
        "  for i in range(mat.shape[0]):\n",
        "    for j in range(mat.shape[1]):\n",
        "      yield ((i, j), mat[i,j])\n",
        "\n",
        "output = MapReduce(RECORDREADER, MAP, REDUCE)\n",
        "output = list(output)\n",
        "output"
      ],
      "execution_count": null,
      "outputs": [
        {
          "output_type": "execute_result",
          "data": {
            "text/plain": [
              "[(0, 1.7019695545376639),\n",
              " (1, 1.7019695545376639),\n",
              " (2, 1.7019695545376639),\n",
              " (3, 1.7019695545376639),\n",
              " (4, 1.7019695545376639)]"
            ]
          },
          "metadata": {},
          "execution_count": 12
        }
      ]
    },
    {
      "cell_type": "markdown",
      "metadata": {
        "id": "ruZREYdi2o4O"
      },
      "source": [
        "## Inverted index"
      ]
    },
    {
      "cell_type": "code",
      "metadata": {
        "id": "vt9H9Alf3TYv",
        "colab": {
          "base_uri": "https://localhost:8080/"
        },
        "outputId": "e18c0bb6-79db-43e4-b46a-61153d9b9058"
      },
      "source": [
        "from typing import Iterator\n",
        "\n",
        "d1 = \"it is what it is\"\n",
        "d2 = \"what is it\"\n",
        "d3 = \"it is a banana\"\n",
        "documents = [d1, d2, d3]\n",
        "\n",
        "def RECORDREADER():\n",
        "  for (docid, document) in enumerate(documents):\n",
        "    yield (\"{}\".format(docid), document)\n",
        "\n",
        "def MAP(docId:str, body:str):\n",
        "  for word in set(body.split(' ')):\n",
        "    yield (word, docId)\n",
        "\n",
        "def REDUCE(word:str, docIds:Iterator[str]):\n",
        "  yield (word, sorted(docIds))\n",
        "\n",
        "output = MapReduce(RECORDREADER, MAP, REDUCE)\n",
        "output = list(output)\n",
        "output"
      ],
      "execution_count": null,
      "outputs": [
        {
          "output_type": "execute_result",
          "data": {
            "text/plain": [
              "[('it', ['0', '1', '2']),\n",
              " ('is', ['0', '1', '2']),\n",
              " ('what', ['0', '1']),\n",
              " ('a', ['2']),\n",
              " ('banana', ['2'])]"
            ]
          },
          "metadata": {},
          "execution_count": 20
        }
      ]
    },
    {
      "cell_type": "markdown",
      "metadata": {
        "id": "R7az-6DA6qr2"
      },
      "source": [
        "## WordCount"
      ]
    },
    {
      "cell_type": "code",
      "metadata": {
        "id": "dN-nbtgG6uYG",
        "colab": {
          "base_uri": "https://localhost:8080/"
        },
        "outputId": "f0f5851e-61e6-487d-8c53-d97fc517b4b0"
      },
      "source": [
        "from typing import Iterator\n",
        "\n",
        "d1 = \"\"\"\n",
        "it is what it is\n",
        "it is what it is\n",
        "it is what it is\"\"\"\n",
        "d2 = \"\"\"\n",
        "what is it\n",
        "what is it\"\"\"\n",
        "d3 = \"\"\"\n",
        "it is a banana\"\"\"\n",
        "documents = [d1, d2, d3]\n",
        "\n",
        "def RECORDREADER():\n",
        "  for (docid, document) in enumerate(documents):\n",
        "    for (lineid, line) in enumerate(document.split('\\n')):\n",
        "      yield (\"{}:{}\".format(docid,lineid), line)\n",
        "\n",
        "def MAP(docId:str, line:str):\n",
        "  for word in line.split(\" \"):\n",
        "    yield (word, 1)\n",
        "\n",
        "def REDUCE(word:str, counts:Iterator[int]):\n",
        "  sum = 0\n",
        "  for c in counts:\n",
        "    sum += c\n",
        "  yield (word, sum)\n",
        "\n",
        "output = MapReduce(RECORDREADER, MAP, REDUCE)\n",
        "output = list(output)\n",
        "output"
      ],
      "execution_count": null,
      "outputs": [
        {
          "output_type": "execute_result",
          "data": {
            "text/plain": [
              "[('', 3), ('it', 9), ('is', 9), ('what', 5), ('a', 1), ('banana', 1)]"
            ]
          },
          "metadata": {},
          "execution_count": 24
        }
      ]
    },
    {
      "cell_type": "markdown",
      "metadata": {
        "id": "h-jRAcYCAkkk"
      },
      "source": [
        "# MapReduce Distributed\n",
        "\n",
        "Добавляется в модель фабрика RECORDREARER-ов --- INPUTFORMAT, функция распределения промежуточных результатов по партициям PARTITIONER, и функция COMBINER для частичной аггрегации промежуточных результатов до распределения по новым партициям."
      ]
    },
    {
      "cell_type": "code",
      "metadata": {
        "id": "nw-b-xJsApgW"
      },
      "source": [
        "def flatten(nested_iterable):\n",
        "  for iterable in nested_iterable:\n",
        "    for element in iterable:\n",
        "      yield element\n",
        "\n",
        "def groupbykey(iterable):\n",
        "  t = {}\n",
        "  for (k2, v2) in iterable:\n",
        "    t[k2] = t.get(k2, []) + [v2]\n",
        "  return t.items()\n",
        "\n",
        "def groupbykey_distributed(map_partitions, PARTITIONER):\n",
        "  global reducers\n",
        "  partitions = [dict() for _ in range(reducers)]\n",
        "  for map_partition in map_partitions:\n",
        "    for (k2, v2) in map_partition:\n",
        "      p = partitions[PARTITIONER(k2)]\n",
        "      p[k2] = p.get(k2, []) + [v2]\n",
        "  return [(partition_id, sorted(partition.items(), key=lambda x: x[0])) for (partition_id, partition) in enumerate(partitions)]\n",
        "\n",
        "def PARTITIONER(obj):\n",
        "  global reducers\n",
        "  return hash(obj) % reducers\n",
        "\n",
        "def MapReduceDistributed(INPUTFORMAT, MAP, REDUCE, PARTITIONER=PARTITIONER, COMBINER=None):\n",
        "  map_partitions = map(lambda record_reader: flatten(map(lambda k1v1: MAP(*k1v1), record_reader)), INPUTFORMAT())\n",
        "  if COMBINER != None:\n",
        "    map_partitions = map(lambda map_partition: flatten(map(lambda k2v2: COMBINER(*k2v2), groupbykey(map_partition))), map_partitions)\n",
        "  reduce_partitions = groupbykey_distributed(map_partitions, PARTITIONER) # shuffle\n",
        "  reduce_outputs = map(lambda reduce_partition: (reduce_partition[0], flatten(map(lambda reduce_input_group: REDUCE(*reduce_input_group), reduce_partition[1]))), reduce_partitions)\n",
        "\n",
        "  print(\"{} key-value pairs were sent over a network.\".format(sum([len(vs) for (k,vs) in flatten([partition for (partition_id, partition) in reduce_partitions])])))\n",
        "  return reduce_outputs"
      ],
      "execution_count": 65,
      "outputs": []
    },
    {
      "cell_type": "markdown",
      "metadata": {
        "id": "kxirlf3XqZxY"
      },
      "source": [
        "## Спецификация MapReduce Distributed\n",
        "\n",
        "\n",
        "```\n",
        "f (k1, v1) -> (k2,v2)*\n",
        "g (k2, v2*) -> (k3,v3)*\n",
        "\n",
        "e1 (k1, v1)\n",
        "e2 (k2, v2)\n",
        "partition1 (k2, v2)*\n",
        "partition2 (k2, v2*)*\n",
        "\n",
        "flatmap (e1->e2*, e1*) -> partition1*\n",
        "groupby (partition1*) -> partition2*\n",
        "\n",
        "mapreduce ((k1,v1)*) -> (k3,v3)*\n",
        "mapreduce .flatmap(f).groupby(k2).flatmap(g)\n",
        "```\n",
        "\n"
      ]
    },
    {
      "cell_type": "markdown",
      "metadata": {
        "id": "CWYw_CpbbY3C"
      },
      "source": [
        "## WordCount"
      ]
    },
    {
      "cell_type": "code",
      "metadata": {
        "id": "uR_zfGFkMZlp",
        "colab": {
          "base_uri": "https://localhost:8080/"
        },
        "outputId": "3668ba21-cd48-4af1-ef66-8a66637f42fc"
      },
      "source": [
        "from typing import Iterator\n",
        "import numpy as np\n",
        "\n",
        "d1 = \"\"\"\n",
        "it is what it is\n",
        "it is what it is\n",
        "it is what it is\"\"\"\n",
        "d2 = \"\"\"\n",
        "what is it\n",
        "what is it\"\"\"\n",
        "d3 = \"\"\"\n",
        "it is a banana\"\"\"\n",
        "documents = [d1, d2, d3, d1, d2, d3]\n",
        "\n",
        "maps = 3\n",
        "reducers = 2\n",
        "\n",
        "def INPUTFORMAT():\n",
        "  global maps\n",
        "\n",
        "  def RECORDREADER(split):\n",
        "    for (docid, document) in enumerate(split):\n",
        "      for (lineid, line) in enumerate(document.split('\\n')):\n",
        "        yield (\"{}:{}\".format(docid,lineid), line)\n",
        "\n",
        "  split_size =  int(np.ceil(len(documents)/maps))\n",
        "  for i in range(0, len(documents), split_size):\n",
        "    yield RECORDREADER(documents[i:i+split_size])\n",
        "\n",
        "def MAP(docId:str, line:str):\n",
        "  for word in line.split(\" \"):\n",
        "    yield (word, 1)\n",
        "\n",
        "def REDUCE(word:str, counts:Iterator[int]):\n",
        "  sum = 0\n",
        "  for c in counts:\n",
        "    sum += c\n",
        "  yield (word, sum)\n",
        "\n",
        "# try to set COMBINER=REDUCER and look at the number of values sent over the network\n",
        "partitioned_output = MapReduceDistributed(INPUTFORMAT, MAP, REDUCE, COMBINER=None)\n",
        "partitioned_output = [(partition_id, list(partition)) for (partition_id, partition) in partitioned_output]\n",
        "partitioned_output"
      ],
      "execution_count": null,
      "outputs": [
        {
          "output_type": "stream",
          "name": "stdout",
          "text": [
            "56 key-value pairs were sent over a network.\n"
          ]
        },
        {
          "output_type": "execute_result",
          "data": {
            "text/plain": [
              "[(0, [('', 6), ('a', 2), ('banana', 2), ('is', 18), ('what', 10)]),\n",
              " (1, [('it', 18)])]"
            ]
          },
          "metadata": {},
          "execution_count": 3
        }
      ]
    },
    {
      "cell_type": "markdown",
      "metadata": {
        "id": "gCJGx8IQ87xS"
      },
      "source": [
        "## TeraSort"
      ]
    },
    {
      "cell_type": "code",
      "metadata": {
        "id": "P2v8v1v_8_YR",
        "colab": {
          "base_uri": "https://localhost:8080/"
        },
        "outputId": "c7814e26-a484-4165-e2db-11ec014da0fa"
      },
      "source": [
        "import numpy as np\n",
        "\n",
        "input_values = np.random.rand(30)\n",
        "maps = 3\n",
        "reducers = 2\n",
        "min_value = 0.0\n",
        "max_value = 1.0\n",
        "\n",
        "def INPUTFORMAT():\n",
        "  global maps\n",
        "\n",
        "  def RECORDREADER(split):\n",
        "    for value in split:\n",
        "        yield (value, None)\n",
        "\n",
        "  split_size =  int(np.ceil(len(input_values)/maps))\n",
        "  for i in range(0, len(input_values), split_size):\n",
        "    yield RECORDREADER(input_values[i:i+split_size])\n",
        "\n",
        "def MAP(value:int, _):\n",
        "  yield (value, None)\n",
        "\n",
        "def PARTITIONER(key):\n",
        "  global reducers\n",
        "  global max_value\n",
        "  global min_value\n",
        "  bucket_size = (max_value-min_value)/reducers\n",
        "  bucket_id = 0\n",
        "  while((key>(bucket_id+1)*bucket_size) and ((bucket_id+1)*bucket_size<max_value)):\n",
        "    bucket_id += 1\n",
        "  return bucket_id\n",
        "\n",
        "def REDUCE(value:int, _):\n",
        "  yield (None,value)\n",
        "\n",
        "partitioned_output = MapReduceDistributed(INPUTFORMAT, MAP, REDUCE, COMBINER=None, PARTITIONER=PARTITIONER)\n",
        "partitioned_output = [(partition_id, list(partition)) for (partition_id, partition) in partitioned_output]\n",
        "partitioned_output"
      ],
      "execution_count": null,
      "outputs": [
        {
          "output_type": "stream",
          "name": "stdout",
          "text": [
            "30 key-value pairs were sent over a network.\n"
          ]
        },
        {
          "output_type": "execute_result",
          "data": {
            "text/plain": [
              "[(0,\n",
              "  [(None, 0.011512808966720578),\n",
              "   (None, 0.025436203922930445),\n",
              "   (None, 0.03485513403483076),\n",
              "   (None, 0.11403172317184629),\n",
              "   (None, 0.1310800669143134),\n",
              "   (None, 0.13422277834615426),\n",
              "   (None, 0.16325189048069189),\n",
              "   (None, 0.2674687178897228),\n",
              "   (None, 0.2841955618969202),\n",
              "   (None, 0.2863804769965731),\n",
              "   (None, 0.29541854106102994),\n",
              "   (None, 0.37361986566455496),\n",
              "   (None, 0.38823208841768275),\n",
              "   (None, 0.41431279018802014),\n",
              "   (None, 0.4199915346102846),\n",
              "   (None, 0.4844980109308441),\n",
              "   (None, 0.49831900082407776)]),\n",
              " (1,\n",
              "  [(None, 0.5125873124480756),\n",
              "   (None, 0.5304725739569252),\n",
              "   (None, 0.6060887888820583),\n",
              "   (None, 0.6873411347037663),\n",
              "   (None, 0.690943175085079),\n",
              "   (None, 0.6927994447896815),\n",
              "   (None, 0.7018938895046862),\n",
              "   (None, 0.7084387616353934),\n",
              "   (None, 0.7247286112815191),\n",
              "   (None, 0.7406915030070437),\n",
              "   (None, 0.9133322443216914),\n",
              "   (None, 0.9323393419371324),\n",
              "   (None, 0.9825656318758326)])]"
            ]
          },
          "metadata": {},
          "execution_count": 4
        }
      ]
    },
    {
      "cell_type": "code",
      "metadata": {
        "id": "MQhoJaVZI93G"
      },
      "source": [],
      "execution_count": null,
      "outputs": []
    },
    {
      "cell_type": "markdown",
      "metadata": {
        "id": "Iy65YJTH99iT"
      },
      "source": [
        "# Упражнения\n",
        "Упражнения взяты из Rajaraman A., Ullman J. D. Mining of massive datasets. – Cambridge University Press, 2011.\n",
        "\n",
        "\n",
        "Для выполнения заданий переопределите функции RECORDREADER, MAP, REDUCE. Для модели распределённой системы может потребоваться переопределение функций PARTITION и COMBINER."
      ]
    },
    {
      "cell_type": "markdown",
      "metadata": {
        "id": "cfvAeZm3S8S8"
      },
      "source": [
        "### Максимальное значение ряда\n",
        "\n",
        "Разработайте MapReduce алгоритм, который находит максимальное число входного списка чисел."
      ]
    },
    {
      "cell_type": "code",
      "metadata": {
        "id": "3GRA1JR-Tkbg",
        "colab": {
          "base_uri": "https://localhost:8080/"
        },
        "outputId": "019bf96e-96d4-4688-8908-5e5bbfbd78da"
      },
      "source": [
        "from typing import NamedTuple  # требует python 3.6+\n",
        "from typing import Iterator\n",
        "\n",
        "# Функция для выравнивания всех данных (flatten) из вложенных итерируемых объектов.\n",
        "def flatten(nested_iterable):\n",
        "    # Проходим по каждому вложенному итерируемому объекту\n",
        "    for iterable in nested_iterable:\n",
        "        # Внутри каждого из них проходим по его элементам\n",
        "        for element in iterable:\n",
        "            yield element  # Возвращаем элементы по одному\n",
        "\n",
        "# Функция для группировки элементов по ключу.\n",
        "# В данном случае ключ - это значение, возвращаемое функцией MAP.\n",
        "def groupbykey(iterable):\n",
        "    t = {}  # Словарь для хранения групп по ключу\n",
        "    for (k2, v2) in iterable:\n",
        "        # Если ключ k2 уже существует в словаре, добавляем новое значение к существующему списку,\n",
        "        # если нет - создаем новый список.\n",
        "        t[k2] = t.get(k2, []) + [v2]\n",
        "    # Возвращаем элементы словаря (ключ и список значений)\n",
        "    return t.items()\n",
        "\n",
        "# Основная функция MapReduce, которая применяет MAP, затем группирует по ключу и применяет REDUCE.\n",
        "def MapReduce(RECORDREADER, MAP, REDUCE):\n",
        "    # Шаг 1: Прочитать данные через RECORDREADER.\n",
        "    # Шаг 2: Применить функцию MAP к данным. Это преобразует данные в пары (ключ, значение).\n",
        "    # Шаг 3: Применить группировку по ключу с использованием groupbykey.\n",
        "    # Шаг 4: Применить REDUCE ко всем сгруппированным данным.\n",
        "    return flatten(map(lambda x: REDUCE(*x), groupbykey(flatten(map(lambda x: MAP(*x), RECORDREADER())))))\n",
        "\n",
        "# Исходный список чисел\n",
        "input_collection = [1, 5, 3, 9, 2, 4, -23, 10, 7, 6]\n",
        "\n",
        "# Переопределяем функцию RECORDREADER, чтобы она возвращала индексы и числа из input_collection\n",
        "def RECORDREADER():\n",
        "    return [(i, n) for i, n in enumerate(input_collection)]  # Создаем пару (индекс, число)\n",
        "\n",
        "# Переопределяем функцию MAP, которая будет преобразовывать числа в пары (ключ, число),\n",
        "# где ключ - это просто строка 'max', а число - это само число из списка.\n",
        "def MAP(_, number):\n",
        "    # Возвращаем пару (ключ 'max', значение - число)\n",
        "    yield ('max', number)\n",
        "\n",
        "# Переопределяем функцию REDUCE для нахождения максимального числа из переданных чисел.\n",
        "def REDUCE(key: str, numbers: Iterator[int]):\n",
        "    # Инициализируем переменную для хранения максимального числа,\n",
        "    # начинаем с очень маленького значения, чтобы первое число точно стало максимальным.\n",
        "    max_number = float('-inf')\n",
        "    # Проходим по всем числам и находим максимальное.\n",
        "    for number in numbers:\n",
        "        if number > max_number:\n",
        "            max_number = number\n",
        "    # Возвращаем пару (ключ 'max', найденное максимальное число)\n",
        "    yield (key, max_number)\n",
        "\n",
        "\n",
        "output = MapReduce(RECORDREADER, MAP, REDUCE)\n",
        "\n",
        "# Преобразуем результат в список и выводим его\n",
        "output = list(output)\n",
        "output  # Выводим максимальное число\n"
      ],
      "execution_count": 71,
      "outputs": [
        {
          "output_type": "execute_result",
          "data": {
            "text/plain": [
              "[('max', 10)]"
            ]
          },
          "metadata": {},
          "execution_count": 71
        }
      ]
    },
    {
      "cell_type": "markdown",
      "source": [
        "Вывод:\n",
        "\n",
        " [('max', 10)]"
      ],
      "metadata": {
        "id": "f9Ll0wRmP972"
      }
    },
    {
      "cell_type": "markdown",
      "metadata": {
        "id": "k86bXnqZTk-U"
      },
      "source": [
        "### Арифметическое среднее\n",
        "\n",
        "Разработайте MapReduce алгоритм, который находит арифметическое среднее.\n",
        "\n",
        "$$\\overline{X} = \\frac{1}{n}\\sum_{i=0}^{n} x_i$$\n"
      ]
    },
    {
      "cell_type": "code",
      "metadata": {
        "id": "MPoY5pkfUNZf",
        "colab": {
          "base_uri": "https://localhost:8080/"
        },
        "outputId": "22a203d0-1ba2-43f4-ac7d-ee5118285285"
      },
      "source": [
        "from typing import NamedTuple  # Требуется Python 3.6 и выше\n",
        "from typing import Iterator\n",
        "\n",
        "# Функция для выравнивания всех данных (flatten) из вложенных итерируемых объектов.\n",
        "def flatten(nested_iterable):\n",
        "    for iterable in nested_iterable:\n",
        "        for element in iterable:\n",
        "            yield element\n",
        "\n",
        "# Функция для группировки элементов по ключу.\n",
        "# Применяется к результатам MAP, чтобы собрать элементы с одинаковыми ключами в списки.\n",
        "def groupbykey(iterable):\n",
        "    t = {}\n",
        "    for (k2, v2) in iterable:\n",
        "        t[k2] = t.get(k2, []) + [v2]\n",
        "    return t.items()  # Возвращаем список всех групп по ключу в виде кортежей (ключ, значения)\n",
        "\n",
        "# Основная функция MapReduce.\n",
        "def MapReduce(RECORDREADER, MAP, REDUCE):\n",
        "    return flatten(map(lambda x: REDUCE(*x), groupbykey(flatten(map(lambda x: MAP(*x), RECORDREADER())))))\n",
        "\n",
        "# Список чисел, с которым будем работать.\n",
        "input_collection = [1, 5, 3, 9, 2, 4, -23, 10, 7, 6]\n",
        "\n",
        "# Переопределяем функцию RECORDREADER, чтобы она возвращала пары (индекс, число) из input_collection.\n",
        "def RECORDREADER():\n",
        "    return [(i, n) for i, n in enumerate(input_collection)]  # Возвращаем пару (индекс, значение)\n",
        "\n",
        "# Функция MAP преобразует каждое число в пару (ключ 'average', число).\n",
        "def MAP(_, number):\n",
        "    # Для каждого числа возвращаем пару (ключ 'average', значение - само число)\n",
        "    yield ('average', number)\n",
        "\n",
        "# Функция REDUCE принимает ключ 'average' и список чисел.\n",
        "# Она вычисляет среднее арифметическое всех чисел в списке.\n",
        "def REDUCE(key: str, numbers: Iterator[int]):\n",
        "    avrg = 0  # Инициализируем переменную для суммы чисел\n",
        "    k = 0  # Переменная для подсчета количества чисел\n",
        "    # Проходим по всем числам\n",
        "    for number in numbers:\n",
        "        avrg += number  # Добавляем число к общей сумме\n",
        "        k += 1  # Увеличиваем счетчик\n",
        "    avrg = avrg / k  # Вычисляем среднее арифметическое\n",
        "    yield (key, avrg)  # Возвращаем пару (ключ, среднее значение)\n",
        "\n",
        "\n",
        "output = MapReduce(RECORDREADER, MAP, REDUCE)\n",
        "\n",
        "output = list(output)\n",
        "output\n"
      ],
      "execution_count": 74,
      "outputs": [
        {
          "output_type": "execute_result",
          "data": {
            "text/plain": [
              "[('average', 2.4)]"
            ]
          },
          "metadata": {},
          "execution_count": 74
        }
      ]
    },
    {
      "cell_type": "markdown",
      "source": [
        "Вывод:\n",
        "\n",
        "[('average', 2.4)]"
      ],
      "metadata": {
        "id": "JXNjbRqHQtJ4"
      }
    },
    {
      "cell_type": "markdown",
      "metadata": {
        "id": "xanzszhsIlLe"
      },
      "source": [
        "### GroupByKey на основе сортировки\n",
        "\n",
        "Реализуйте groupByKey на основе сортировки, проверьте его работу на примерах"
      ]
    },
    {
      "cell_type": "code",
      "metadata": {
        "id": "hQPn3USsIkEC",
        "colab": {
          "base_uri": "https://localhost:8080/"
        },
        "outputId": "aee94397-b49c-4428-b638-e5af666a33c7"
      },
      "source": [
        "def groupByKey(iterable):\n",
        "    from itertools import groupby  # Импортируем функцию groupby из модуля itertools\n",
        "\n",
        "    # Сначала сортируем данные по ключу, потому что groupby требует отсортированных данных.\n",
        "    sorted_iterable = sorted(iterable, key=lambda x: x[0])  # Сортируем по первому элементу каждой пары\n",
        "\n",
        "    grouped_data = []  # Список для хранения сгруппированных данных\n",
        "    # Используем groupby для группировки по ключу\n",
        "    for key, group in groupby(sorted_iterable, key=lambda x: x[0]):\n",
        "        # Для каждой группы (по ключу) собираем значения в список и добавляем пару (ключ, список значений) в итоговый результат\n",
        "        grouped_data.append((key, [item[1] for item in group]))  # Собираем только значения (вторые элементы каждой пары)\n",
        "\n",
        "    return grouped_data  # Возвращаем результат в виде списка пар (ключ, список значений)\n",
        "\n",
        "# Пример 1: Исходные данные - список кортежей (ключ, значение)\n",
        "primer1 = [('a', 1), ('b', 2), ('a', 3), ('c', 4), ('b', 5)]\n",
        "# Группируем данные по ключам\n",
        "result1 = groupByKey(primer1)\n",
        "# Выводим результат\n",
        "print(f\"Пример 1: {result1}\")\n",
        "\n",
        "# Пример 2: Исходные данные - список кортежей (ключ, значение), но ключи - строки\n",
        "primer2 = [('1', 'one'), ('2', 'two'), ('1', 'uno')]  # Ключи - строки\n",
        "# Группируем данные по строковым ключам\n",
        "result2 = groupByKey(primer2)\n",
        "# Выводим результат\n",
        "print(f\"Пример 2 (ключи - строки): {result2}\")\n"
      ],
      "execution_count": 75,
      "outputs": [
        {
          "output_type": "stream",
          "name": "stdout",
          "text": [
            "Пример 1: [('a', [1, 3]), ('b', [2, 5]), ('c', [4])]\n",
            "Пример 2 (ключи - строки): [('1', ['one', 'uno']), ('2', ['two'])]\n"
          ]
        }
      ]
    },
    {
      "cell_type": "markdown",
      "source": [
        "Вывод:\n",
        "\n",
        "Пример 1: [('a', [1, 3]), ('b', [2, 5]), ('c', [4])]\n",
        "\n",
        "Пример 2 (ключи - строки): [('1', ['one', 'uno']), ('2', ['two'])]"
      ],
      "metadata": {
        "id": "Zxd3mjimR6bs"
      }
    },
    {
      "cell_type": "markdown",
      "metadata": {
        "id": "5SgEjCZyGnu6"
      },
      "source": [
        "### Drop duplicates (set construction, unique elements, distinct)\n",
        "\n",
        "Реализуйте распределённую операцию исключения дубликатов"
      ]
    },
    {
      "cell_type": "code",
      "metadata": {
        "id": "okjbyApjGhMt",
        "colab": {
          "base_uri": "https://localhost:8080/"
        },
        "outputId": "1384f533-865e-4ec4-a157-b87e4d1215de"
      },
      "source": [
        "from typing import NamedTuple, Iterator  # Импортируем необходимые типы данных\n",
        "import random\n",
        "\n",
        "# Функция для выравнивания всех данных (flatten) из вложенных итерируемых объектов\n",
        "def flatten(nested_iterable):\n",
        "    for iterable in nested_iterable:\n",
        "        for element in iterable:\n",
        "            yield element  # Возвращаем каждый элемент по одному\n",
        "\n",
        "# Функция группировки по ключу\n",
        "def groupbykey(iterable):\n",
        "    t = {}\n",
        "    for (k2, v2) in iterable:\n",
        "        t[k2] = t.get(k2, []) + [v2]\n",
        "    return t.items()  # Возвращаем пары (ключ, список значений)\n",
        "\n",
        "# Основной алгоритм MapReduce\n",
        "def MapReduce(RECORDREADER, MAP, REDUCE, PARTITIONER=None, COMBINER=None):\n",
        "    records = RECORDREADER()\n",
        "    mapped = flatten(map(lambda x: MAP(*x), records))\n",
        "    # Если определен COMBINER, применяем его для агрегации данных перед группировкой\n",
        "    if COMBINER:\n",
        "        mapped = flatten(map(lambda x: COMBINER(*x), groupbykey(mapped)))\n",
        "\n",
        "    # Группируем данные по ключу\n",
        "    grouped = groupbykey(mapped)\n",
        "\n",
        "    # Если определен PARTITIONER, распределяем данные по партициям\n",
        "    if PARTITIONER:\n",
        "        partitioned = {}  # Словарь для хранения данных, распределенных по партициям\n",
        "        for key, values in grouped:\n",
        "            partition = PARTITIONER(key)  # Получаем партицию для текущего ключа\n",
        "            partitioned.setdefault(partition, []).append((key, values))\n",
        "        result = flatten(map(lambda part: flatten(map(lambda x: REDUCE(*x), part[1])), partitioned.items()))\n",
        "    else:\n",
        "        # Если PARTITIONER не определен, просто применяем REDUCE ко всем данным\n",
        "        result = flatten(map(lambda x: REDUCE(*x), grouped))\n",
        "\n",
        "    return result  # Возвращаем результат после применения всех функций\n",
        "\n",
        "# Переопределение RECORDREADER\n",
        "def RECORDREADER():\n",
        "    return [(u.id, u) for u in input_collection]\n",
        "\n",
        "\n",
        "class User(NamedTuple):\n",
        "    id: int\n",
        "    age: str\n",
        "    social_contacts: int\n",
        "    gender: str\n",
        "\n",
        "input_collection = [\n",
        "    User(id=0, age=55, gender='male', social_contacts=20),\n",
        "    User(id=1, age=25, gender='female', social_contacts=240),\n",
        "    User(id=2, age=25, gender='female', social_contacts=500),\n",
        "    User(id=3, age=33, gender='female', social_contacts=800),\n",
        "    User(id=1, age=25, gender='female', social_contacts=240),  # Дубликат\n",
        "    User(id=2, age=25, gender='female', social_contacts=500),   # Дубликат\n",
        "    User(id=3, age=33, gender='female', social_contacts=800)  # Дубликат\n",
        "]\n",
        "\n",
        "# Функция MAP\n",
        "def MAP(_, row: NamedTuple):\n",
        "    yield (row.id, row)\n",
        "\n",
        "# Функция REDUCE\n",
        "def REDUCE(user_id: int, rows: Iterator):\n",
        "    # Используем set для исключения дубликатов (если они есть)\n",
        "    unique_elements = set(rows)  # Преобразуем данные в set для удаления дубликатов\n",
        "    for element in unique_elements:  # Проходим по уникальным элементам\n",
        "        yield (user_id, element)  # Возвращаем каждый уникальный элемент для каждого user_id\n",
        "\n",
        "# Функция COMBINER для частичной агрегации\n",
        "def COMBINER(user_id: int, rows: Iterator):\n",
        "    unique_elements = set(rows)\n",
        "    for element in unique_elements:\n",
        "        yield (user_id, element)\n",
        "\n",
        "# Функция PARTITIONER для распределения данных по партициям\n",
        "def PARTITIONER(key):\n",
        "    global reducers  # Количество редьюсеров\n",
        "    # Рандомно имитируем распределение по партициям\n",
        "    return random.randint(0, reducers - 1)  # Возвращаем случайную партицию для ключа\n",
        "\n",
        "# Количество редьюсеров\n",
        "reducers = 3\n",
        "\n",
        "# Выполнение алгоритма MapReduce с использованием всех функций\n",
        "output = MapReduce(RECORDREADER, MAP, REDUCE, PARTITIONER, COMBINER)\n",
        "\n",
        "# Преобразуем результат в список и выводим\n",
        "output = list(output)\n",
        "print(output)  # Выводим результат MapReduce\n"
      ],
      "execution_count": 85,
      "outputs": [
        {
          "output_type": "stream",
          "name": "stdout",
          "text": [
            "[(0, User(id=0, age=55, social_contacts=20, gender='male')), (2, User(id=2, age=25, social_contacts=500, gender='female')), (1, User(id=1, age=25, social_contacts=240, gender='female')), (3, User(id=3, age=33, social_contacts=800, gender='female'))]\n"
          ]
        }
      ]
    },
    {
      "cell_type": "markdown",
      "source": [
        "Вывод:\n",
        "\n",
        "[(0, User(id=0, age=55, social_contacts=20, gender='male')), (2, User(id=2, age=25, social_contacts=500, gender='female')), (1, User(id=1, age=25, social_contacts=240, gender='female')), (3, User(id=3, age=33, social_contacts=800, gender='female'))]"
      ],
      "metadata": {
        "id": "_dDs1O0VSY5W"
      }
    },
    {
      "cell_type": "markdown",
      "metadata": {
        "id": "e7sRGoTXuJze"
      },
      "source": [
        "#Операторы реляционной алгебры\n",
        "### Selection (Выборка)\n",
        "\n",
        "**The Map Function**: Для  каждого кортежа $t \\in R$ вычисляется истинность предиката $C$. В случае истины создаётся пара ключ-значение $(t, t)$. В паре ключ и значение одинаковы, равны $t$.\n",
        "\n",
        "**The Reduce Function:** Роль функции Reduce выполняет функция идентичности, которая возвращает то же значение, что получила на вход.\n",
        "\n"
      ]
    },
    {
      "cell_type": "code",
      "metadata": {
        "id": "4nKIKe59uIfc",
        "colab": {
          "base_uri": "https://localhost:8080/"
        },
        "outputId": "28cc57bf-ae36-48d8-8da5-0486ae22be6c"
      },
      "source": [
        "from typing import NamedTuple\n",
        "from typing import Iterator\n",
        "\n",
        "# Функция для выравнивания всех данных (flatten) из вложенных итерируемых объектов\n",
        "def flatten(nested_iterable):\n",
        "    for iterable in nested_iterable:\n",
        "        for element in iterable:\n",
        "            yield element\n",
        "# Функция группировки по ключу\n",
        "def groupbykey(iterable):\n",
        "    t = {}\n",
        "    for (k2, v2) in iterable:\n",
        "        t[k2] = t.get(k2, []) + [v2]\n",
        "    return t.items()\n",
        "\n",
        "def MapReduce(RECORDREADER, MAP, REDUCE):\n",
        "    return flatten(map(lambda x: REDUCE(*x), groupbykey(flatten(map(lambda x: MAP(*x), RECORDREADER())))))\n",
        "\n",
        "# Пример данных\n",
        "class User(NamedTuple):\n",
        "    id: int\n",
        "    age: int\n",
        "    gender: str\n",
        "    social_contacts: int\n",
        "\n",
        "input_collection = [\n",
        "    User(id=0, age=55, gender='male', social_contacts=20),\n",
        "    User(id=1, age=25, gender='female', social_contacts=240),\n",
        "    User(id=2, age=25, gender='female', social_contacts=500),\n",
        "    User(id=3, age=33, gender='female', social_contacts=800)\n",
        "]\n",
        "\n",
        "\n",
        "def RECORDREADER():\n",
        "    return [(u.id, u) for u in input_collection]\n",
        "\n",
        "# Переопределяем MAP для применения предиката C\n",
        "def MAP(_, user: NamedTuple):\n",
        "    # Условие: выбираем пользователей, у которых возраст больше 30\n",
        "    if user.age > 30:\n",
        "        yield (user, user)  # (ключ, значение) одинаковые - это сам кортеж\n",
        "\n",
        "# Переопределяем REDUCE для выполнения функции идентичности\n",
        "def REDUCE(key: NamedTuple, values: Iterator[NamedTuple]):\n",
        "    # Функция идентичности - просто возвращаем то, что получили\n",
        "    for value in values:\n",
        "        yield value\n",
        "\n",
        "# Запуск MapReduce\n",
        "output = MapReduce(RECORDREADER, MAP, REDUCE)\n",
        "output = list(output)\n",
        "\n",
        "# Выводим результат\n",
        "print(\"\\nВыбранные кортежи (age > 30):\")\n",
        "output"
      ],
      "execution_count": 46,
      "outputs": [
        {
          "output_type": "stream",
          "name": "stdout",
          "text": [
            "\n",
            "Выбранные кортежи (age > 30):\n"
          ]
        },
        {
          "output_type": "execute_result",
          "data": {
            "text/plain": [
              "[User(id=0, age=55, gender='male', social_contacts=20),\n",
              " User(id=3, age=33, gender='female', social_contacts=800)]"
            ]
          },
          "metadata": {},
          "execution_count": 46
        }
      ]
    },
    {
      "cell_type": "markdown",
      "source": [
        "Вывод:\n",
        "\n",
        "Выбранные кортежи (age > 30):\n",
        "\n",
        "[User(id=0, age=55, gender='male', social_contacts=20),\n",
        "\n",
        " User(id=3, age=33, gender='female', social_contacts=800)]"
      ],
      "metadata": {
        "id": "ha_9if7tVFm1"
      }
    },
    {
      "cell_type": "markdown",
      "metadata": {
        "id": "w27Ca-_Ku85V"
      },
      "source": [
        "### Projection (Проекция)\n",
        "\n",
        "Проекция на множество атрибутов $S$.\n",
        "\n",
        "**The Map Function:** Для каждого кортежа $t \\in R$ создайте кортеж $t′$, исключая  из $t$ те значения, атрибуты которых не принадлежат  $S$. Верните пару $(t′, t′)$.\n",
        "\n",
        "**The Reduce Function:** Для каждого ключа $t′$, созданного любой Map задачей, вы получаете одну или несколько пар $(t′, t′)$. Reduce функция преобразует $(t′, [t′, t′, . . . , t′])$ в $(t′, t′)$, так, что для ключа $t′$ возвращается одна пара  $(t′, t′)$."
      ]
    },
    {
      "cell_type": "code",
      "metadata": {
        "id": "BEvuY4GqvhS6",
        "colab": {
          "base_uri": "https://localhost:8080/"
        },
        "outputId": "3c40b8f3-1569-49b2-f261-fa286795e04a"
      },
      "source": [
        "from typing import NamedTuple\n",
        "from typing import Iterator\n",
        "\n",
        "# Функция для выравнивания всех данных (flatten) из вложенных итерируемых объектов\n",
        "def flatten(nested_iterable):\n",
        "    for iterable in nested_iterable:\n",
        "        for element in iterable:\n",
        "            yield element\n",
        "# Функция группировки по ключу\n",
        "def groupbykey(iterable):\n",
        "    t = {}\n",
        "    for (k2, v2) in iterable:\n",
        "        t[k2] = t.get(k2, []) + [v2]\n",
        "    return t.items()\n",
        "\n",
        "def MapReduce(RECORDREADER, MAP, REDUCE):\n",
        "    return flatten(map(lambda x: REDUCE(*x), groupbykey(flatten(map(lambda x: MAP(*x), RECORDREADER())))))\n",
        "\n",
        "# Пример данных\n",
        "class User(NamedTuple):\n",
        "    id: int\n",
        "    age: int\n",
        "    gender: str\n",
        "    social_contacts: int\n",
        "\n",
        "input_collection = [\n",
        "    User(id=0, age=55, gender='male', social_contacts=20),\n",
        "    User(id=1, age=25, gender='female', social_contacts=240),\n",
        "    User(id=2, age=25, gender='female', social_contacts=500),\n",
        "    User(id=3, age=33, gender='female', social_contacts=800)\n",
        "]\n",
        "\n",
        "# Множество атрибутов S, которые мы хотим оставить\n",
        "S = {'id', 'age'}\n",
        "\n",
        "# Переопределяем RECORDREADER для чтения данных\n",
        "def RECORDREADER():\n",
        "    return [(u.id, u) for u in input_collection]\n",
        "\n",
        "# Переопределяем MAP для проекции на множество атрибутов S\n",
        "def MAP(_, user: NamedTuple):\n",
        "    # Создаем проекцию на атрибуты 'id' и 'age'\n",
        "    projection = {key: value for key, value in user._asdict().items() if key in S}\n",
        "    yield (tuple(projection.items()), tuple(projection.items()))  # (t', t')\n",
        "\n",
        "# Переопределяем REDUCE для объединения результатов и удаления дубликатов\n",
        "def REDUCE(key: NamedTuple, values: Iterator[NamedTuple]):\n",
        "    # Для каждого ключа возвращаем одну пару (t', t')\n",
        "    yield key\n",
        "\n",
        "# Запуск MapReduce\n",
        "output = MapReduce(RECORDREADER, MAP, REDUCE)\n",
        "output = list(output)\n",
        "\n",
        "# Выводим результат\n",
        "output"
      ],
      "execution_count": 45,
      "outputs": [
        {
          "output_type": "execute_result",
          "data": {
            "text/plain": [
              "[(('id', 0), ('age', 55)),\n",
              " (('id', 1), ('age', 25)),\n",
              " (('id', 2), ('age', 25)),\n",
              " (('id', 3), ('age', 33))]"
            ]
          },
          "metadata": {},
          "execution_count": 45
        }
      ]
    },
    {
      "cell_type": "markdown",
      "source": [
        "Вывод:\n",
        "\n",
        "[(('id', 0), ('age', 55)),\n",
        "\n",
        " (('id', 1), ('age', 25)),\n",
        "\n",
        " (('id', 2), ('age', 25)),\n",
        "\n",
        " (('id', 3), ('age', 33))]"
      ],
      "metadata": {
        "id": "TZPbAaTWVM8Y"
      }
    },
    {
      "cell_type": "markdown",
      "metadata": {
        "id": "7gau6lKXvn2R"
      },
      "source": [
        "### Union (Объединение)\n",
        "\n",
        "**The Map Function:** Превратите каждый входной кортеж $t$ в пару ключ-значение $(t, t)$.\n",
        "\n",
        "**The Reduce Function:** С каждым ключом $t$ будет ассоциировано одно или два значений. В обоих случаях создайте $(t, t)$ в качестве выходного значения."
      ]
    },
    {
      "cell_type": "code",
      "metadata": {
        "id": "Sns7a5agv3nw",
        "colab": {
          "base_uri": "https://localhost:8080/"
        },
        "outputId": "f84e2a44-d566-4bb2-a189-25ed5f29e481"
      },
      "source": [
        "from typing import Iterator, List, Tuple, Dict\n",
        "from collections import defaultdict\n",
        "# Функция для выравнивания всех данных (flatten) из вложенных итерируемых объектов\n",
        "def flatten(nested_iterable):\n",
        "  for iterable in nested_iterable:\n",
        "    for element in iterable:\n",
        "      yield element\n",
        "# Функция группировки по ключу\n",
        "def groupbykey(iterable):\n",
        "  t = defaultdict(list)\n",
        "  for k2, v2 in iterable:\n",
        "    t[k2].append(v2)\n",
        "  return t.items()\n",
        "\n",
        "def MapReduce(RECORDREADER, MAP, REDUCE):\n",
        "  return flatten(map(lambda x: REDUCE(*x), groupbykey(flatten(map(lambda x: MAP(*x), RECORDREADER())))))\n",
        "\n",
        "relation1 = [{'name': 'Alice', 'age': 30}, {'name': 'Vasiliy', 'age': 42},{'name': 'Vasiliy', 'age': 36}]\n",
        "relation2 = [{'name': 'Vasiliy', 'age': 42}, {'name': 'Charlie', 'age': 30}]\n",
        "\n",
        "def RECORDREADER():\n",
        "  # Возвращает кортежи (relation_id, row) , где relation_id - идентификатор списка (1 или 2), а row - словарь.\n",
        "  for row in relation1:\n",
        "    yield (1, row) # 1 - идентификатор первого списка\n",
        "  for row in relation2:\n",
        "    yield (2, row) # 2 - идентификатор второго списка\n",
        "\n",
        "def MAP(_, row):\n",
        "  # Преобразует каждый входной словарь row в пару (кортеж_значений, словарь).\n",
        "  # Кортеж значений используем как ключ.\n",
        "  key = tuple(row.values())\n",
        "  yield (key, row)\n",
        "\n",
        "def REDUCE(key, values):\n",
        "  # Поскольку мы хотим уникальные записи, берем только первый словарь для каждого ключа.\n",
        "  yield values[0]\n",
        "\n",
        "output_union = MapReduce(RECORDREADER, MAP, REDUCE)\n",
        "output_union = list(output_union)\n",
        "\n",
        "print(output_union)\n",
        "\n"
      ],
      "execution_count": 98,
      "outputs": [
        {
          "output_type": "stream",
          "name": "stdout",
          "text": [
            "[{'name': 'Alice', 'age': 30}, {'name': 'Vasiliy', 'age': 42}, {'name': 'Vasiliy', 'age': 36}, {'name': 'Charlie', 'age': 30}]\n"
          ]
        }
      ]
    },
    {
      "cell_type": "markdown",
      "source": [
        "Вывод:\n",
        "\n",
        "[{'name': 'Alice', 'age': 30}, {'name': 'Vasiliy', 'age': 42}, {'name': 'Vasiliy', 'age': 36}, {'name': 'Charlie', 'age': 30}]"
      ],
      "metadata": {
        "id": "sYEounajXs87"
      }
    },
    {
      "cell_type": "markdown",
      "metadata": {
        "id": "dQ8TuEbjv4J8"
      },
      "source": [
        "### Intersection (Пересечение)\n",
        "\n",
        "**The Map Function:** Превратите каждый кортеж $t$ в пары ключ-значение $(t, t)$.\n",
        "\n",
        "**The Reduce Function:** Если для ключа $t$ есть список из двух элементов $[t, t]$ $-$ создайте пару $(t, t)$. Иначе, ничего не создавайте."
      ]
    },
    {
      "cell_type": "code",
      "metadata": {
        "id": "XKlBZh4IwERR",
        "colab": {
          "base_uri": "https://localhost:8080/"
        },
        "outputId": "c920cac2-46cd-49bb-8af0-9265c588a845"
      },
      "source": [
        "from typing import NamedTuple\n",
        "from typing import Iterator\n",
        "\n",
        "# Функция для выравнивания всех данных (flatten) из вложенных итерируемых объектов\n",
        "def flatten(nested_iterable):\n",
        "    for iterable in nested_iterable:\n",
        "        for element in iterable:\n",
        "            yield element\n",
        "# Функция группировки по ключу\n",
        "def groupbykey(iterable):\n",
        "    t = {}\n",
        "    for (k2, v2) in iterable:\n",
        "        t[k2] = t.get(k2, []) + [v2]\n",
        "    return t.items()\n",
        "\n",
        "def MapReduce(RECORDREADER, MAP, REDUCE):\n",
        "    return flatten(map(lambda x: REDUCE(*x), groupbykey(flatten(map(lambda x: MAP(*x), RECORDREADER())))))\n",
        "\n",
        "# Пример данных\n",
        "class User(NamedTuple):\n",
        "    id: int\n",
        "    age: int\n",
        "    gender: str\n",
        "    social_contacts: int\n",
        "\n",
        "# Два набора пользователей, чтобы найти их пересечение\n",
        "input_collection_1 = [\n",
        "    User(id=0, age=55, gender='male', social_contacts=20),\n",
        "    User(id=1, age=25, gender='female', social_contacts=240),\n",
        "    User(id=2, age=25, gender='female', social_contacts=500)\n",
        "]\n",
        "\n",
        "input_collection_2 = [\n",
        "    User(id=1, age=25, gender='female', social_contacts=240),\n",
        "    User(id=3, age=33, gender='female', social_contacts=800)\n",
        "]\n",
        "\n",
        "# Множество атрибутов S, которые мы хотим оставить\n",
        "S = {'id', 'age', 'gender', 'social_contacts'}\n",
        "\n",
        "# Переопределяем RECORDREADER для чтения данных из двух коллекций\n",
        "def RECORDREADER():\n",
        "    return [(u.id, u) for u in input_collection_1] + [(u.id, u) for u in input_collection_2]\n",
        "\n",
        "# Переопределяем MAP для создания пар (t, t)\n",
        "def MAP(_, user: NamedTuple):\n",
        "    yield (user, user)  # (t, t)\n",
        "\n",
        "# Переопределяем REDUCE для пересечения\n",
        "def REDUCE(key: NamedTuple, values: Iterator[NamedTuple]):\n",
        "    values_list = list(values)\n",
        "    if len(values_list) == 2:  # Если ключ встречается дважды, создаем пару (t, t)\n",
        "        yield (key, key)\n",
        "\n",
        "output = MapReduce(RECORDREADER, MAP, REDUCE)\n",
        "output = list(output)\n",
        "\n",
        "output"
      ],
      "execution_count": 43,
      "outputs": [
        {
          "output_type": "execute_result",
          "data": {
            "text/plain": [
              "[(User(id=1, age=25, gender='female', social_contacts=240),\n",
              "  User(id=1, age=25, gender='female', social_contacts=240))]"
            ]
          },
          "metadata": {},
          "execution_count": 43
        }
      ]
    },
    {
      "cell_type": "markdown",
      "source": [
        "Вывод:\n",
        "\n",
        "[(User(id=1, age=25, gender='female', social_contacts=240),\n",
        "\n",
        "  User(id=1, age=25, gender='female', social_contacts=240))]"
      ],
      "metadata": {
        "id": "i6KqudnyYF9Y"
      }
    },
    {
      "cell_type": "markdown",
      "metadata": {
        "id": "AVOpqoY3wE5k"
      },
      "source": [
        "### Difference (Разница)\n",
        "\n",
        "**The Map Function:** Для кортежа $t \\in R$, создайте пару $(t, R)$, и для кортежа $t \\in S$, создайте пару $(t, S)$. Задумка заключается в том, чтобы значение пары было именем отношения $R$ or $S$, которому принадлежит кортеж (а лучше, единичный бит, по которому можно два отношения различить $R$ or $S$), а не весь набор атрибутов отношения.\n",
        "\n",
        "**The Reduce Function:** Для каждого ключа $t$, если соответствующее значение является списком $[R]$, создайте пару $(t, t)$. В иных случаях не предпринимайте действий."
      ]
    },
    {
      "cell_type": "code",
      "metadata": {
        "id": "QE_AC09lwZIZ",
        "colab": {
          "base_uri": "https://localhost:8080/"
        },
        "outputId": "aec11114-de4b-47a7-8234-e317be10a3ce"
      },
      "source": [
        "from typing import NamedTuple\n",
        "from typing import Iterator\n",
        "from collections import defaultdict\n",
        "\n",
        "# Функция для выравнивания всех данных (flatten) из вложенных итерируемых объектов\n",
        "def flatten(nested_iterable):\n",
        "    for iterable in nested_iterable:\n",
        "        for element in iterable:\n",
        "            yield element\n",
        "# Функция группировки по ключу\n",
        "def groupbykey(iterable):\n",
        "    t = {}\n",
        "    for (k2, v2) in iterable:\n",
        "        t[k2] = t.get(k2, []) + [v2]\n",
        "    return t.items()\n",
        "\n",
        "def MapReduce(RECORDREADER, MAP, REDUCE):\n",
        "    return flatten(map(lambda x: REDUCE(*x), groupbykey(flatten(map(lambda x: MAP(*x), RECORDREADER())))))\n",
        "\n",
        "# Пример данных\n",
        "class User(NamedTuple):\n",
        "    id: int\n",
        "    age: int\n",
        "    gender: str\n",
        "    social_contacts: int\n",
        "\n",
        "# Два набора пользователей, чтобы найти их разницу\n",
        "input_collection_R = [\n",
        "    User(id=0, age=55, gender='male', social_contacts=20),\n",
        "    User(id=1, age=25, gender='female', social_contacts=240),\n",
        "    User(id=2, age=25, gender='female', social_contacts=500)\n",
        "]\n",
        "\n",
        "input_collection_S = [\n",
        "    User(id=1, age=25, gender='female', social_contacts=240),\n",
        "    User(id=2, age=25, gender='female', social_contacts=500)\n",
        "]\n",
        "\n",
        "# Переопределяем RECORDREADER для чтения данных из двух коллекций\n",
        "def RECORDREADER():\n",
        "    return [(u, 'R') for u in input_collection_R] + [(u, 'S') for u in input_collection_S]\n",
        "\n",
        "# Переопределяем MAP для создания пар (t, R) или (t, S)\n",
        "def MAP(t: NamedTuple, source: str):\n",
        "    yield (t, source)  # Для каждого кортежа t создаем пару (t, 'R') или (t, 'S')\n",
        "\n",
        "# Переопределяем REDUCE для нахождения разницы\n",
        "def REDUCE(key: NamedTuple, values: Iterator[str]):\n",
        "    value_list = list(values)\n",
        "    if 'R' in value_list and 'S' not in value_list:  # Проверяем, что есть в R и нет в S\n",
        "        yield key  # Возвращаем только ключ (сам объект User)\n",
        "\n",
        "output = MapReduce(RECORDREADER, MAP, REDUCE)\n",
        "output = list(output)\n",
        "\n",
        "print(output)"
      ],
      "execution_count": 103,
      "outputs": [
        {
          "output_type": "stream",
          "name": "stdout",
          "text": [
            "[User(id=0, age=55, gender='male', social_contacts=20)]\n"
          ]
        }
      ]
    },
    {
      "cell_type": "markdown",
      "source": [
        "Вывод:\n",
        "\n",
        "[User(id=0, age=55, gender='male', social_contacts=20)]\n"
      ],
      "metadata": {
        "id": "9Tgy7oRWbHVg"
      }
    },
    {
      "cell_type": "markdown",
      "metadata": {
        "id": "j8I58V2VwhSm"
      },
      "source": [
        "### Natural Join\n",
        "\n",
        "**The Map Function:** Для каждого кортежа $(a, b)$ отношения $R$, создайте пару $(b,(R, a))$. Для каждого кортежа $(b, c)$ отношения $S$, создайте пару $(b,(S, c))$.\n",
        "\n",
        "**The Reduce Function:** Каждый ключ $b$ будет асоциирован со списком пар, которые принимают форму либо $(R, a)$, либо $(S, c)$. Создайте все пары, одни, состоящие из  первого компонента $R$, а другие, из первого компонента $S$, то есть $(R, a)$ и $(S, c)$. На выходе вы получаете последовательность пар ключ-значение из списков ключей и значений. Ключ не нужен. Каждое значение, это тройка $(a, b, c)$ такая, что $(R, a)$ и $(S, c)$ это принадлежат входному списку значений."
      ]
    },
    {
      "cell_type": "code",
      "metadata": {
        "id": "yHiuuTctw86I",
        "colab": {
          "base_uri": "https://localhost:8080/"
        },
        "outputId": "0fb98a90-a587-4637-a1f4-ae252c90dc31"
      },
      "source": [
        "from typing import NamedTuple\n",
        "from typing import Iterator\n",
        "\n",
        "# Функция для выравнивания всех данных (flatten) из вложенных итерируемых объектов\n",
        "def flatten(nested_iterable):\n",
        "    for iterable in nested_iterable:\n",
        "        for element in iterable:\n",
        "            yield element\n",
        "# Функция группировки по ключу\n",
        "def groupbykey(iterable):\n",
        "    t = {}\n",
        "    for (k2, v2) in iterable:\n",
        "        t[k2] = t.get(k2, []) + [v2]\n",
        "    return t.items()\n",
        "\n",
        "def MapReduce(RECORDREADER, MAP, REDUCE):\n",
        "    return flatten(map(lambda x: REDUCE(*x), groupbykey(flatten(map(lambda x: MAP(*x), RECORDREADER())))))\n",
        "\n",
        "# Пример данных\n",
        "class RelationR(NamedTuple):\n",
        "    a: int\n",
        "    b: int\n",
        "\n",
        "class RelationS(NamedTuple):\n",
        "    b: int\n",
        "    c: int\n",
        "\n",
        "# Отношения R и S\n",
        "input_collection_R = [\n",
        "    RelationR(a=1, b=10),\n",
        "    RelationR(a=2, b=20),\n",
        "    RelationR(a=3, b=30)\n",
        "]\n",
        "\n",
        "input_collection_S = [\n",
        "    RelationS(b=10, c=100),\n",
        "    RelationS(b=20, c=200),\n",
        "    RelationS(b=40, c=400)\n",
        "]\n",
        "\n",
        "# Переопределяем RECORDREADER для чтения данных из двух коллекций\n",
        "def RECORDREADER():\n",
        "    return [(r.b, ('R', r.a)) for r in input_collection_R] + [(s.b, ('S', s.c)) for s in input_collection_S]\n",
        "\n",
        "# Переопределяем MAP для создания пар (b, (R, a)) или (b, (S, c))\n",
        "def MAP(b: int, value: tuple):\n",
        "    yield (b, value)  # Для каждого кортежа из R или S создаем пару (b, (R, a)) или (b, (S, c))\n",
        "\n",
        "# Переопределяем REDUCE для выполнения Join операции\n",
        "def REDUCE(b: int, values: Iterator[tuple]):\n",
        "    values_list = list(values)\n",
        "    R_values = [v[1] for v in values_list if v[0] == 'R']\n",
        "    S_values = [v[1] for v in values_list if v[0] == 'S']\n",
        "\n",
        "    # Создаем все возможные комбинации (a, b, c)\n",
        "    for a in R_values:\n",
        "        for c in S_values:\n",
        "            yield (a, b, c)\n",
        "\n",
        "output = MapReduce(RECORDREADER, MAP, REDUCE)\n",
        "output = list(output)\n",
        "\n",
        "output"
      ],
      "execution_count": 41,
      "outputs": [
        {
          "output_type": "execute_result",
          "data": {
            "text/plain": [
              "[(1, 10, 100), (2, 20, 200)]"
            ]
          },
          "metadata": {},
          "execution_count": 41
        }
      ]
    },
    {
      "cell_type": "markdown",
      "source": [
        "Вывод:\n",
        "\n",
        "[(1, 10, 100), (2, 20, 200)]"
      ],
      "metadata": {
        "id": "waajbyeoZCWU"
      }
    },
    {
      "cell_type": "markdown",
      "metadata": {
        "id": "kYdlr0YUxE27"
      },
      "source": [
        "### Grouping and Aggregation (Группировка и аггрегация)\n",
        "\n",
        "**The Map Function:** Для каждого кортежа $(a, b, c$) создайте пару $(a, b)$.\n",
        "\n",
        "**The Reduce Function:** Ключ представляет ту или иную группу. Примение аггрегирующую операцию $\\theta$ к списку значений $[b1, b2, . . . , bn]$ ассоциированных с ключом $a$. Возвращайте в выходной поток $(a, x)$, где $x$ результат применения  $\\theta$ к списку. Например, если $\\theta$ это $SUM$, тогда $x = b1 + b2 + · · · + bn$, а если $\\theta$ is $MAX$, тогда $x$ это максимальное из значений $b1, b2, . . . , bn$."
      ]
    },
    {
      "cell_type": "code",
      "metadata": {
        "id": "MLPckfEGxico",
        "colab": {
          "base_uri": "https://localhost:8080/"
        },
        "outputId": "a7f5c5e9-ebf5-4733-af56-243229356b86"
      },
      "source": [
        "from typing import NamedTuple\n",
        "from typing import Iterator\n",
        "\n",
        "# Функция для выравнивания всех данных (flatten) из вложенных итерируемых объектов\n",
        "def flatten(nested_iterable):\n",
        "    for iterable in nested_iterable:\n",
        "        for element in iterable:\n",
        "            yield element\n",
        "# Функция группировки по ключу\n",
        "def groupbykey(iterable):\n",
        "    t = {}\n",
        "    for (k2, v2) in iterable:\n",
        "        t[k2] = t.get(k2, []) + [v2]\n",
        "    return t.items()\n",
        "\n",
        "def MapReduce(RECORDREADER, MAP, REDUCE):\n",
        "    return flatten(map(lambda x: REDUCE(*x), groupbykey(flatten(map(lambda x: MAP(*x), RECORDREADER())))))\n",
        "\n",
        "# Пример данных\n",
        "class Relation(NamedTuple):\n",
        "    a: int\n",
        "    b: int\n",
        "    c: int\n",
        "\n",
        "# Пример данных\n",
        "input_collection = [\n",
        "    Relation(a=1, b=10, c=100),\n",
        "    Relation(a=1, b=20, c=200),\n",
        "    Relation(a=2, b=30, c=300),\n",
        "    Relation(a=2, b=40, c=400),\n",
        "    Relation(a=1, b=50, c=500),\n",
        "    Relation(a=3, b=50, c=500)\n",
        "]\n",
        "\n",
        "# Переопределяем RECORDREADER для чтения данных\n",
        "def RECORDREADER():\n",
        "    return [(t.a, t.b) for t in input_collection]\n",
        "\n",
        "# Переопределяем MAP для создания пар (a, b)\n",
        "def MAP(a: int, b: int):\n",
        "    yield (a, b)\n",
        "\n",
        "# Переопределяем REDUCE для выполнения агрегации (например, SUM)\n",
        "def REDUCE(a: int, values: Iterator[int]):\n",
        "    result = sum(values)  # Выполняем операцию SUM\n",
        "    yield (a, result)\n",
        "\n",
        "# Запуск MapReduce\n",
        "output = MapReduce(RECORDREADER, MAP, REDUCE)\n",
        "output = list(output)\n",
        "\n",
        "# Выводим результат\n",
        "output"
      ],
      "execution_count": 40,
      "outputs": [
        {
          "output_type": "execute_result",
          "data": {
            "text/plain": [
              "[(1, 80), (2, 70), (3, 50)]"
            ]
          },
          "metadata": {},
          "execution_count": 40
        }
      ]
    },
    {
      "cell_type": "markdown",
      "metadata": {
        "id": "03IffTEOJgOb"
      },
      "source": [
        "Вывод:\n",
        "\n",
        "[(1, 80), (2, 70), (3, 50)]"
      ]
    },
    {
      "cell_type": "markdown",
      "metadata": {
        "id": "IIrRgvG4RIS4"
      },
      "source": [
        "### Matrix-Vector multiplication\n",
        "\n",
        "Случай, когда вектор не помещается в памяти Map задачи\n"
      ]
    },
    {
      "cell_type": "code",
      "metadata": {
        "id": "KQhDbiL3zS9r",
        "colab": {
          "base_uri": "https://localhost:8080/"
        },
        "outputId": "d9575dab-d987-40ad-f97a-f92e713a3375"
      },
      "source": [
        "import numpy as np\n",
        "from typing import List, Tuple, Iterator\n",
        "import math\n",
        "import multiprocessing as mp\n",
        "from collections import defaultdict\n",
        "\n",
        "# Параметры\n",
        "MATRIX_ROWS = 4\n",
        "MATRIX_COLS = 4\n",
        "VECTOR_SIZE = MATRIX_COLS\n",
        "CHUNK_SIZE = 2  # Размер части вектора, обрабатываемой каждым Map\n",
        "NUM_REDUCERS = 2  # Количество редукторов\n",
        "\n",
        "# Генерация случайной матрицы и вектора\n",
        "matrix = np.random.rand(MATRIX_ROWS, MATRIX_COLS)\n",
        "vector = np.random.rand(VECTOR_SIZE)\n",
        "\n",
        "\n",
        "def RECORDREADER(matrix):\n",
        "    # Читает матрицу построчно. Каждая строка - отдельная запись\n",
        "    for i, row in enumerate(matrix):\n",
        "        yield (i, row)  # (row_index, row_data)\n",
        "\n",
        "def MAP(row_index: int, row: np.ndarray) -> Iterator[Tuple[int, Tuple[int, float]]]:\n",
        "    # Разбивает вектор на части и сопоставляет каждой части строки матрицы.\n",
        "    # Для каждой части строки матрицы и каждой части вектора выдает пару (reducer_id, (row_index, частичное произведение))\n",
        "    num_chunks = math.ceil(VECTOR_SIZE / CHUNK_SIZE)\n",
        "    start = 0\n",
        "    end = VECTOR_SIZE\n",
        "    #vector_chunk = vector[start:end]\n",
        "    row_chunk = row\n",
        "    reducer_id = row_index % NUM_REDUCERS #  используем индекс строки для распределения по редукторам\n",
        "    partial_product = np.sum(row_chunk * vector) # умножаем строку матрицы на весь вектор\n",
        "    yield (reducer_id, (row_index, partial_product))\n",
        "\n",
        "\n",
        "def REDUCE(reducer_id: int, partial_results: Iterator[Tuple[int, float]]) -> Iterator[Tuple[int, float]]:\n",
        "    # Суммирует частичные произведения для каждой строки матрицы\n",
        "    row_sums = defaultdict(float)\n",
        "    for row_index, partial_product in partial_results:\n",
        "        row_sums[row_index] += partial_product\n",
        "    for row_index, row_sum in row_sums.items():\n",
        "        yield (row_index, row_sum)#\n",
        "\n",
        "def PARTITIONER(key):\n",
        "  return key\n",
        "\n",
        "# Функция для выравнивания всех данных (flatten) из вложенных итерируемых объектов\n",
        "def flatten(nested_iterable):\n",
        "    for iterable in nested_iterable:\n",
        "        for element in iterable:\n",
        "            yield element\n",
        "# Функция группировки по ключу\n",
        "def groupbykey(iterable):\n",
        "    t = {}\n",
        "    for (k2, v2) in iterable:\n",
        "        t[k2] = t.get(k2, []) + [v2]\n",
        "    return t.items()\n",
        "\n",
        "def MapReduce(RECORDREADER, MAP, REDUCE):\n",
        "    mapped = list(flatten(map(lambda x: MAP(*x), RECORDREADER(matrix))))\n",
        "    grouped = groupbykey(mapped)\n",
        "    reduced = list(flatten(map(lambda x: REDUCE(*x), grouped)))\n",
        "    return reduced\n",
        "\n",
        "\n",
        "results = MapReduce(RECORDREADER, MAP, REDUCE)\n",
        "# Сортировка результатов по индексу строки\n",
        "results.sort(key=lambda x: x[0])\n",
        " # Преобразование в NumPy array\n",
        "map_reduce_result = np.array([result[1] for result in results])\n",
        "# Проверка результата (обычное матрично-векторное умножение)\n",
        "numpy_result = matrix @ vector\n",
        "# Сравнение результатов\n",
        "print(\"MapReduce result (first 10 elements):\", map_reduce_result[:10])\n",
        "print(\"NumPy result (first 10 elements):\", numpy_result[:10])\n",
        "# Проверка на равенство с заданной точностью\n",
        "if np.allclose(map_reduce_result, numpy_result):\n",
        "      print(\"True\")\n",
        "else:\n",
        "      print(\"False\")"
      ],
      "execution_count": 102,
      "outputs": [
        {
          "output_type": "stream",
          "name": "stdout",
          "text": [
            "MapReduce result (first 10 elements): [1.42804592 1.21285676 1.45066749 1.73160117]\n",
            "NumPy result (first 10 elements): [1.42804592 1.21285676 1.45066749 1.73160117]\n",
            "True\n"
          ]
        }
      ]
    },
    {
      "cell_type": "markdown",
      "source": [
        "Вывод:\n",
        "\n",
        "MapReduce result (first 10 elements): [1.42804592 1.21285676 1.45066749 1.73160117]\n",
        "\n",
        "NumPy result (first 10 elements): [1.42804592 1.21285676 1.45066749 1.73160117]\n",
        "\n",
        "True"
      ],
      "metadata": {
        "id": "GEsh84kbaLj2"
      }
    },
    {
      "cell_type": "markdown",
      "metadata": {
        "id": "GIo2t7nNxvA9"
      },
      "source": [
        "## Matrix multiplication (Перемножение матриц)\n",
        "\n",
        "Если у нас есть матрица $M$ с элементами $m_{ij}$ в строке $i$ и столбце $j$, и матрица $N$ с элементами $n_{jk}$ в строке $j$ и столбце $k$, тогда их произведение $P = MN$ есть матрица $P$ с элементами $p_{ik}$ в строке $i$ и столбце $k$, где\n",
        "\n",
        "$$p_{ik} =\\sum_{j} m_{ij}n_{jk}$$\n",
        "\n",
        "Необходимым требованием является одинаковое количество столбцов в $M$ и строк в $N$, чтобы операция суммирования по  $j$ была осмысленной. Мы можем размышлять о матрице, как об отношении с тремя атрибутами: номер строки, номер столбца, само значение. Таким образом матрица $M$ предстваляется как отношение $ M(I, J, V )$, с кортежами $(i, j, m_{ij})$, и, аналогично, матрица $N$ представляется как отношение $N(J, K, W)$, с кортежами $(j, k, n_{jk})$. Так как большие матрицы как правило разреженные (большинство значений равно 0), и так как мы можем нулевыми значениями пренебречь (не хранить), такое реляционное представление достаточно эффективно для больших матриц. Однако, возможно, что координаты $i$, $j$, и $k$ неявно закодированы в смещение позиции элемента относительно начала файла, вместо явного хранения. Тогда, функция Map (или Reader) должна быть разработана таким образом, чтобы реконструировать компоненты $I$, $J$, и $K$ кортежей из смещения.\n",
        "\n",
        "Произведение $MN$ это фактически join, за которым следуют группировка по ключу и аггрегация. Таким образом join отношений $M(I, J, V )$ и $N(J, K, W)$, имеющих общим только атрибут $J$, создаст кортежи $(i, j, k, v, w)$ из каждого кортежа $(i, j, v) \\in M$ и кортежа $(j, k, w) \\in N$. Такой 5 компонентный кортеж представляет пару элементов матрицы $(m_{ij} , n_{jk})$. Что нам хотелось бы получить на самом деле, это произведение этих элементов, то есть, 4 компонентный кортеж$(i, j, k, v \\times w)$, так как он представляет произведение $m_{ij}n_{jk}$. Мы представляем отношение как результат одной MapReduce операции, в которой мы можем произвести группировку и аггрегацию, с $I$ и $K$  атрибутами, по которым идёт группировка, и суммой  $V \\times W$.\n",
        "\n",
        "\n",
        "\n"
      ]
    },
    {
      "cell_type": "code",
      "metadata": {
        "id": "1MBkGaLAYVCt"
      },
      "source": [
        "# MapReduce model\n",
        "def flatten(nested_iterable):\n",
        "  for iterable in nested_iterable:\n",
        "    for element in iterable:\n",
        "      yield element\n",
        "\n",
        "def groupbykey(iterable):\n",
        "  t = {}\n",
        "  for (k2, v2) in iterable:\n",
        "    t[k2] = t.get(k2, []) + [v2]\n",
        "  return t.items()\n",
        "\n",
        "def MapReduce(RECORDREADER, MAP, REDUCE):\n",
        "  return flatten(map(lambda x: REDUCE(*x), groupbykey(flatten(map(lambda x: MAP(*x), RECORDREADER())))))"
      ],
      "execution_count": 27,
      "outputs": []
    },
    {
      "cell_type": "markdown",
      "metadata": {
        "id": "sMspsOT0ZB35"
      },
      "source": [
        "Реализуйте перемножение матриц с использованием модельного кода MapReduce для одной машины в случае, когда одна матрица хранится в памяти, а другая генерируется RECORDREADER-ом."
      ]
    },
    {
      "cell_type": "code",
      "metadata": {
        "id": "psP1XekbsEjS",
        "colab": {
          "base_uri": "https://localhost:8080/"
        },
        "outputId": "90b35b65-874e-42a5-e602-861310bad71e"
      },
      "source": [
        "import numpy as np\n",
        "from typing import Tuple, Iterator, Dict, List\n",
        "from collections import defaultdict\n",
        "\n",
        "# Параметры матриц\n",
        "I = 2\n",
        "J = 3\n",
        "K = 4*10\n",
        "\n",
        "small_mat = np.random.rand(I, J)  # Матрица, хранящаяся в памяти\n",
        "big_mat = np.random.rand(J, K)  # Матрица, генерируемая RECORDREADER\n",
        "\n",
        "def RECORDREADER():\n",
        "  for j in range(big_mat.shape[0]):\n",
        "    for k in range(big_mat.shape[1]):\n",
        "      yield ((j, k), big_mat[j, k])  # ((j, k), njk)\n",
        "\n",
        "def MAP(key: Tuple[int, int], value: float) -> Iterator[Tuple[Tuple[int, int], float]]:\n",
        "  # Для каждого элемента big_mat (j, k) выдает пары ( (i, k), mij * njk )\n",
        "  # где i - номер строки в small_mat, j - номер столбца small_mat\n",
        "  (j, k) = key\n",
        "  w = value  # njk\n",
        "  for i in range(small_mat.shape[0]):\n",
        "    mij = small_mat[i, j]\n",
        "    yield ((i, k), mij * w)  # ((i, k), mij * njk)\n",
        "\n",
        "def REDUCE(key: Tuple[int, int], values: Iterator[float]) -> Iterator[Tuple[Tuple[int, int], float]]:\n",
        "  # Суммирует произведения mij * njk для каждой пары (i, k)\n",
        "  (i, k) = key\n",
        "  sum_pik = sum(values)\n",
        "  yield ((i, k), sum_pik)\n",
        "\n",
        "# Запуск MapReduce\n",
        "output = MapReduce(RECORDREADER, MAP, REDUCE)\n",
        "\n",
        "# Форматирование результата\n",
        "result_matrix = np.zeros((I, K))\n",
        "for (i, k), pik in output:\n",
        "    result_matrix[i, k] = pik\n",
        "\n",
        "print(\"Результат MapReduce P:\")\n",
        "print(result_matrix)\n",
        "\n",
        "# Проверка результата (с использованием NumPy)\n",
        "numpy_result = small_mat @ big_mat\n",
        "print(\"\\nРезультат NumPy:\")\n",
        "print(numpy_result)\n",
        "\n",
        "# Сравнение результатов\n",
        "if np.allclose(result_matrix, numpy_result):\n",
        "     print(\"True\")\n",
        "else:\n",
        "      print(\"False\")"
      ],
      "execution_count": 114,
      "outputs": [
        {
          "output_type": "stream",
          "name": "stdout",
          "text": [
            "Результат MapReduce P:\n",
            "[[0.30621513 0.85712799 0.77357254 0.48122983 0.25793161 0.93077786\n",
            "  0.56746459 0.27028144 0.25506057 0.35424529 0.61397699 0.29623879\n",
            "  0.22956892 0.77204597 0.75258846 0.4486331  0.22853996 0.25693799\n",
            "  0.67270599 0.76344107 0.36659478 0.64411993 0.45201779 0.63910323\n",
            "  0.41600804 0.88145825 0.30117384 0.45593892 0.67424814 0.69964462\n",
            "  0.31446172 0.34775071 0.81691345 0.56145829 0.28469632 0.46522809\n",
            "  0.14359058 0.54977011 0.76457053 0.34281099]\n",
            " [0.36542292 0.3862561  0.50849906 0.33796115 0.3251338  0.4712049\n",
            "  0.47696501 0.38387557 0.15287488 0.65089514 0.33620328 0.26747315\n",
            "  0.32215626 0.33267416 0.33718642 0.55082911 0.28883081 0.36177462\n",
            "  0.25255928 0.37175225 0.14931363 0.33896768 0.31440801 0.39179259\n",
            "  0.64307099 0.53251082 0.12705245 0.22459177 0.4239396  0.32969271\n",
            "  0.37974894 0.40691543 0.4866181  0.23295454 0.3745421  0.29255739\n",
            "  0.13772063 0.24550737 0.29582306 0.30203622]]\n",
            "\n",
            "Результат NumPy:\n",
            "[[0.30621513 0.85712799 0.77357254 0.48122983 0.25793161 0.93077786\n",
            "  0.56746459 0.27028144 0.25506057 0.35424529 0.61397699 0.29623879\n",
            "  0.22956892 0.77204597 0.75258846 0.4486331  0.22853996 0.25693799\n",
            "  0.67270599 0.76344107 0.36659478 0.64411993 0.45201779 0.63910323\n",
            "  0.41600804 0.88145825 0.30117384 0.45593892 0.67424814 0.69964462\n",
            "  0.31446172 0.34775071 0.81691345 0.56145829 0.28469632 0.46522809\n",
            "  0.14359058 0.54977011 0.76457053 0.34281099]\n",
            " [0.36542292 0.3862561  0.50849906 0.33796115 0.3251338  0.4712049\n",
            "  0.47696501 0.38387557 0.15287488 0.65089514 0.33620328 0.26747315\n",
            "  0.32215626 0.33267416 0.33718642 0.55082911 0.28883081 0.36177462\n",
            "  0.25255928 0.37175225 0.14931363 0.33896768 0.31440801 0.39179259\n",
            "  0.64307099 0.53251082 0.12705245 0.22459177 0.4239396  0.32969271\n",
            "  0.37974894 0.40691543 0.4866181  0.23295454 0.3745421  0.29255739\n",
            "  0.13772063 0.24550737 0.29582306 0.30203622]]\n",
            "True\n"
          ]
        }
      ]
    },
    {
      "cell_type": "markdown",
      "source": [
        "Вывод:\n",
        "\n",
        "Результат MapReduce P:\n",
        "\n",
        "[[0.65103703 0.6957463  1.43265521 1.55257496 1.32265845 1.33108916\n",
        "  1.43230334 1.92093842 1.71885217 0.9810601  1.27801142 0.79084701\n",
        "  0.6160354  0.79673351 0.93701701 1.57376606 0.4221972  1.46870906\n",
        "  1.3817057  0.89259454 1.22667538 1.64864243 1.05078393 1.35987349\n",
        "  2.07401376 1.07503128 2.16422823 1.617069   0.76628063 0.3881462\n",
        "  0.90709897 1.69586165 1.24939035 1.93179565 1.49721322 1.88201609\n",
        "  0.41700276 1.55159568 1.28005696 1.610856  ]\n",
        " [0.44195175 0.56544688 0.74476145 0.97947438 0.65338974 0.76550332\n",
        "  0.89601738 1.18606498 0.94277816 0.70964796 0.71693588 0.51381988\n",
        "  0.32255007 0.56082831 0.39374864 0.85477277 0.28263166 1.04218681\n",
        "  0.78138024 0.72043434 0.64174222 1.02880713 0.67612928 0.72669664\n",
        "  1.28784967 0.58106416 1.26310287 0.8615227  0.48080726 0.23957179\n",
        "  0.46662805 1.03434326 0.78042046 1.12209714 0.94929398 0.97738826\n",
        "  0.19809204 0.89246125 0.90897749 1.02544925]]\n",
        "\n",
        "Результат NumPy:\n",
        "\n",
        "[[0.65103703 0.6957463  1.43265521 1.55257496 1.32265845 1.33108916\n",
        "  1.43230334 1.92093842 1.71885217 0.9810601  1.27801142 0.79084701\n",
        "  0.6160354  0.79673351 0.93701701 1.57376606 0.4221972  1.46870906\n",
        "  1.3817057  0.89259454 1.22667538 1.64864243 1.05078393 1.35987349\n",
        "  2.07401376 1.07503128 2.16422823 1.617069   0.76628063 0.3881462\n",
        "  0.90709897 1.69586165 1.24939035 1.93179565 1.49721322 1.88201609\n",
        "  0.41700276 1.55159568 1.28005696 1.610856  ]\n",
        " [0.44195175 0.56544688 0.74476145 0.97947438 0.65338974 0.76550332\n",
        "  0.89601738 1.18606498 0.94277816 0.70964796 0.71693588 0.51381988\n",
        "  0.32255007 0.56082831 0.39374864 0.85477277 0.28263166 1.04218681\n",
        "  0.78138024 0.72043434 0.64174222 1.02880713 0.67612928 0.72669664\n",
        "  1.28784967 0.58106416 1.26310287 0.8615227  0.48080726 0.23957179\n",
        "  0.46662805 1.03434326 0.78042046 1.12209714 0.94929398 0.97738826\n",
        "  0.19809204 0.89246125 0.90897749 1.02544925]]\n",
        "\n",
        "True"
      ],
      "metadata": {
        "id": "-WMlF_hRbYDg"
      }
    },
    {
      "cell_type": "markdown",
      "metadata": {
        "id": "rnt306LHhHrm"
      },
      "source": [
        "Проверьте своё решение"
      ]
    },
    {
      "cell_type": "code",
      "metadata": {
        "id": "Ewy_ZNYqW5a2",
        "colab": {
          "base_uri": "https://localhost:8080/"
        },
        "outputId": "76633f6a-8d90-4bf7-e22b-4e767a5a10b5"
      },
      "source": [
        "# CHECK THE SOLUTION\n",
        "reference_solution = np.matmul(small_mat, big_mat)\n",
        "solution = MapReduce(RECORDREADER, MAP, REDUCE)\n",
        "\n",
        "def asmatrix(reduce_output):\n",
        "  reduce_output = list(reduce_output)\n",
        "  I = max(i for ((i,k), vw) in reduce_output)+1\n",
        "  K = max(k for ((i,k), vw) in reduce_output)+1\n",
        "  mat = np.empty(shape=(I,K))\n",
        "  for ((i,k), vw) in reduce_output:\n",
        "    mat[i,k] = vw\n",
        "  return mat\n",
        "\n",
        "np.allclose(reference_solution, asmatrix(solution)) # should return true"
      ],
      "execution_count": 105,
      "outputs": [
        {
          "output_type": "execute_result",
          "data": {
            "text/plain": [
              "True"
            ]
          },
          "metadata": {},
          "execution_count": 105
        }
      ]
    },
    {
      "cell_type": "code",
      "metadata": {
        "id": "TK7v4CEcfxqf",
        "colab": {
          "base_uri": "https://localhost:8080/"
        },
        "outputId": "493ec2fe-1241-4a0e-c47f-109bfabaca21"
      },
      "source": [
        "reduce_output = list(MapReduce(RECORDREADER, MAP, REDUCE))\n",
        "max(i for ((i,k), vw) in reduce_output)"
      ],
      "execution_count": 106,
      "outputs": [
        {
          "output_type": "execute_result",
          "data": {
            "text/plain": [
              "1"
            ]
          },
          "metadata": {},
          "execution_count": 106
        }
      ]
    },
    {
      "cell_type": "markdown",
      "metadata": {
        "id": "i4yyg3kOZqJJ"
      },
      "source": [
        "Реализуйте перемножение матриц  с использованием модельного кода MapReduce для одной машины в случае, когда обе матрицы генерируются в RECORDREADER. Например, сначала одна, а потом другая."
      ]
    },
    {
      "cell_type": "code",
      "metadata": {
        "id": "3B7rIAJCaHZq",
        "colab": {
          "base_uri": "https://localhost:8080/"
        },
        "outputId": "d5bb2f24-a9ee-4c28-8b94-b92173f3231e"
      },
      "source": [
        "import numpy as np  # Импортируем библиотеку для работы с массивами\n",
        "from typing import Tuple, Iterator, List  # Импортируем типы данных для аннотаций\n",
        "\n",
        "def flatten(nested_iterable):\n",
        "  for iterable in nested_iterable:\n",
        "    for element in iterable:\n",
        "      yield element\n",
        "\n",
        "def groupbykey(iterable):\n",
        "  t = {}\n",
        "  for (k2, v2) in iterable:\n",
        "    t[k2] = t.get(k2, []) + [v2]\n",
        "  return t.items()\n",
        "\n",
        "\n",
        "\n",
        "def MapReduce(RECORDREADER, MAP, REDUCE):\n",
        "    return flatten(map(lambda x: REDUCE(*x), groupbykey(flatten(map(lambda x: MAP(*x), RECORDREADER())))))\n",
        "\n",
        "# Размерности матриц для умножения\n",
        "I = 2\n",
        "J = 3\n",
        "K = 4 * 10\n",
        "\n",
        "mat_M = np.random.rand(I, J)\n",
        "mat_N = np.random.rand(J, K)\n",
        "\n",
        "\n",
        "# Генерирует кортежи для каждой записи из матриц M и N\n",
        "def RECORDREADER():\n",
        "    for i in range(mat_M.shape[0]):\n",
        "        for j in range(mat_M.shape[1]):\n",
        "            yield \"M\", (i, j), mat_M[i, j]  # Возвращаем кортеж с индексами и значением\n",
        "    for j in range(mat_N.shape[0]):\n",
        "        for k in range(mat_N.shape[1]):\n",
        "            yield \"N\", (j, k), mat_N[j, k]  # Возвращаем кортеж с индексами и значением\n",
        "\n",
        "\n",
        "# Преобразует записи из матрицы M и N в пары ключ-значение\n",
        "def MAP(matrix_name: str, coords: Tuple[int, int], value: float) -> Iterator[Tuple[Tuple[int, int], Tuple[str, int, int, float]]]:\n",
        "    if matrix_name == \"M\":\n",
        "        i, j = coords\n",
        "        for k in range(K):  # Итерируем по столбцам матрицы N\n",
        "            yield (i, k), (\"M\", i, j, value)  # Ключом является индекс строки i и столбца k, значением - строка и столбец из M\n",
        "    elif matrix_name == \"N\":\n",
        "        j, k = coords\n",
        "        for i in range(I):  # Итерируем по строкам матрицы M\n",
        "            yield (i, k), (\"N\", j, k, value)  # Ключом является индекс строки i и столбца k, значением - строка и столбец из N\n",
        "\n",
        "# Выполняет агрегацию для каждой ячейки результата (i, k)\n",
        "def REDUCE(key: Tuple[int, int], values: Iterator[Tuple[str, int, int, float]]) -> Iterator[Tuple[Tuple[int, int], float]]:\n",
        "    \"\"\"Вычисляет сумму произведений для каждой ячейки (i, k) в результирующей матрице.\"\"\"\n",
        "    i, k = key\n",
        "    sum_val = 0\n",
        "    m_vals = {}\n",
        "    n_vals = {}\n",
        "\n",
        "    # Проходим по всем значениям для данной ячейки (i, k)\n",
        "    for matrix_name, first_index, second_index, val in values:\n",
        "        if matrix_name == \"M\":\n",
        "            m_vals[second_index] = val\n",
        "        elif matrix_name == \"N\":\n",
        "            n_vals[first_index] = val\n",
        "\n",
        "    # Выполняем суммирование произведений соответствующих значений\n",
        "    for j in range(J):\n",
        "        m_val = m_vals.get(j, 0)\n",
        "        n_val = n_vals.get(j, 0)\n",
        "        sum_val += m_val * n_val  # Добавляем произведение к сумме\n",
        "\n",
        "    yield (i, k), sum_val  # Возвращаем итоговое значение для ячейки (i, k)\n",
        "\n",
        "# Выполняем алгоритм MapReduce\n",
        "result = MapReduce(RECORDREADER, MAP, REDUCE)\n",
        "\n",
        "# Форматируем результат в матрицу\n",
        "output_matrix = np.zeros((I, K))  # Создаем пустую матрицу для результата умножения\n",
        "for (i, k), value in result:\n",
        "    output_matrix[i, k] = value  # Заполняем ячейку результатами\n",
        "\n",
        "\n",
        "numpy_matrix = np.matmul(mat_M, mat_N)\n",
        "\n",
        "print(\"Результат MapReduce:\")\n",
        "print(output_matrix)\n",
        "print(\"\\nРезультат NumPy:\")\n",
        "print(numpy_matrix)\n",
        "\n",
        "# Сравниваем результаты\n",
        "print(\"\\nСовпадают ли результаты?\", np.allclose(output_matrix, numpy_matrix))\n"
      ],
      "execution_count": 113,
      "outputs": [
        {
          "output_type": "stream",
          "name": "stdout",
          "text": [
            "Результат MapReduce:\n",
            "[[0.38131499 0.38581551 0.39958747 0.52062489 0.60182781 0.27857375\n",
            "  0.56539161 0.42930609 0.68895801 0.27500688 0.57539856 0.75193426\n",
            "  0.08693775 0.54205606 0.37203334 0.14494357 0.19331791 0.293676\n",
            "  0.48679804 0.47237209 0.22176125 0.71972412 0.43962569 0.40920454\n",
            "  0.30017687 0.62832843 0.4178736  0.34607863 0.67349604 0.57767088\n",
            "  0.33662095 0.7274654  0.7056129  0.4236142  0.4544439  0.24644341\n",
            "  0.42649337 0.22077415 0.45636891 0.38968631]\n",
            " [0.77998613 0.41214165 0.72744979 0.58037725 0.82137405 0.61375078\n",
            "  0.47455226 0.53529614 0.5387448  0.42314302 0.56417525 0.92972176\n",
            "  0.15106109 0.49741181 0.37661584 0.11406549 0.23885348 0.72663128\n",
            "  0.39226508 0.44474938 0.48154282 0.79089185 0.45814205 0.69923224\n",
            "  0.3987395  0.59630559 0.63539491 0.62072539 0.7125347  0.573538\n",
            "  0.5237198  0.89842602 0.74467647 0.79319897 0.63479627 0.43802466\n",
            "  0.81518197 0.27563703 0.53722385 0.69392787]]\n",
            "\n",
            "Результат NumPy:\n",
            "[[0.38131499 0.38581551 0.39958747 0.52062489 0.60182781 0.27857375\n",
            "  0.56539161 0.42930609 0.68895801 0.27500688 0.57539856 0.75193426\n",
            "  0.08693775 0.54205606 0.37203334 0.14494357 0.19331791 0.293676\n",
            "  0.48679804 0.47237209 0.22176125 0.71972412 0.43962569 0.40920454\n",
            "  0.30017687 0.62832843 0.4178736  0.34607863 0.67349604 0.57767088\n",
            "  0.33662095 0.7274654  0.7056129  0.4236142  0.4544439  0.24644341\n",
            "  0.42649337 0.22077415 0.45636891 0.38968631]\n",
            " [0.77998613 0.41214165 0.72744979 0.58037725 0.82137405 0.61375078\n",
            "  0.47455226 0.53529614 0.5387448  0.42314302 0.56417525 0.92972176\n",
            "  0.15106109 0.49741181 0.37661584 0.11406549 0.23885348 0.72663128\n",
            "  0.39226508 0.44474938 0.48154282 0.79089185 0.45814205 0.69923224\n",
            "  0.3987395  0.59630559 0.63539491 0.62072539 0.7125347  0.573538\n",
            "  0.5237198  0.89842602 0.74467647 0.79319897 0.63479627 0.43802466\n",
            "  0.81518197 0.27563703 0.53722385 0.69392787]]\n",
            "\n",
            "Совпадают ли результаты? True\n"
          ]
        }
      ]
    },
    {
      "cell_type": "markdown",
      "metadata": {
        "id": "mXyzQi1DaIwo"
      },
      "source": [
        "Реализуйте перемножение матриц с использованием модельного кода MapReduce Distributed, когда каждая матрица генерируется в своём RECORDREADER."
      ]
    },
    {
      "cell_type": "code",
      "metadata": {
        "id": "TDM_s78Rb5eR",
        "colab": {
          "base_uri": "https://localhost:8080/"
        },
        "outputId": "cc328b28-8b79-4b8c-83a1-1e4716c2650f"
      },
      "source": [
        "import numpy as np  # Импортируем библиотеку для работы с массивами\n",
        "from typing import Tuple, Iterator, List, Dict  # Импортируем необходимые типы для аннотаций\n",
        "from collections import defaultdict  # Импортируем defaultdict для удобного создания словарей с дефолтными значениями\n",
        "\n",
        "def flatten(nested_iterable):\n",
        "  for iterable in nested_iterable:\n",
        "    for element in iterable:\n",
        "      yield element\n",
        "\n",
        "def groupbykey(iterable):\n",
        "  t = {}\n",
        "  for (k2, v2) in iterable:\n",
        "    t[k2] = t.get(k2, []) + [v2]\n",
        "  return t.items()\n",
        "\n",
        "# Основная функция MapReduce, выполняющая распределенную обработку для умножения матриц\n",
        "def MapReduce(RECORDREADER_M, RECORDREADER_N, MAP, REDUCE, num_reducers):\n",
        "    # Каждый RECORDREADER передает свои данные в отдельные задачи MAP\n",
        "    mapped_M = list(flatten(map(lambda x: MAP(\"M\", *x), RECORDREADER_M())))\n",
        "    mapped_N = list(flatten(map(lambda x: MAP(\"N\", *x), RECORDREADER_N())))\n",
        "\n",
        "    # Объединяем результаты обработки для обеих матриц\n",
        "    mapped_all = mapped_M + mapped_N\n",
        "\n",
        "    # Разбиение данных по партициям (моделируем с помощью простого хеширования)\n",
        "    partitioned = defaultdict(list)  # Словарь для хранения данных по партициям\n",
        "    for key, value in mapped_all:  # Для каждой пары ключ-значение\n",
        "        reducer_id = hash(key) % num_reducers  # Простое хеширование для определения партиции\n",
        "        partitioned[reducer_id].append((key, value))  # Добавляем данные в соответствующую партицию\n",
        "\n",
        "    # Каждый редьюсер обрабатывает свою партицию данных\n",
        "    reduced_results = []  # Список для хранения результатов редьюсинга\n",
        "    for reducer_id in range(num_reducers):  # Для каждого редьюсера\n",
        "        grouped = groupbykey(partitioned[reducer_id])  # Группируем данные по ключу\n",
        "        reduced_results.extend(flatten(map(lambda x: REDUCE(*x), grouped)))  # Применяем REDUCE и добавляем результаты\n",
        "\n",
        "    return reduced_results  # Возвращаем итоговые результаты\n",
        "\n",
        "# Размерности матриц для умножения\n",
        "I = 2\n",
        "J = 3\n",
        "K = 4 * 10\n",
        "\n",
        "# Генерация случайных матриц M и N\n",
        "mat_M = np.random.rand(I, J)\n",
        "mat_N = np.random.rand(J, K)\n",
        "\n",
        "# Функции для чтения данных из матриц (для распределенной обработки)\n",
        "def RECORDREADER_M():\n",
        "    for i in range(mat_M.shape[0]):\n",
        "        for j in range(mat_M.shape[1]):\n",
        "            yield (i, j), mat_M[i, j]  # Возвращаем индекс (i, j) и соответствующее значение\n",
        "\n",
        "def RECORDREADER_N():\n",
        "    for j in range(mat_N.shape[0]):\n",
        "        for k in range(mat_N.shape[1]):\n",
        "            yield (j, k), mat_N[j, k]  # Возвращаем индекс (j, k) и соответствующее значение\n",
        "\n",
        "\n",
        "def MAP(matrix_name: str, coords: Tuple[int, int], value: float) -> Iterator[Tuple[Tuple[int, int], Tuple[str, int, int, float]]]:\n",
        "    if matrix_name == \"M\":\n",
        "        i, j = coords  # Извлекаем индексы из матрицы M\n",
        "        for k in range(K):\n",
        "            yield (i, k), (\"M\", i, j, value)  # Возвращаем ключ (i, k) и значение из матрицы M\n",
        "    elif matrix_name == \"N\":\n",
        "        j, k = coords  # Извлекаем индексы из матрицы N\n",
        "        for i in range(I):\n",
        "            yield (i, k), (\"N\", j, k, value)  # Возвращаем ключ (i, k) и значение из матрицы N\n",
        "\n",
        "def REDUCE(key: Tuple[int, int], values: Iterator[Tuple[str, int, int, float]]) -> Iterator[Tuple[Tuple[int, int], float]] :\n",
        "    i, k = key\n",
        "    sum_val = 0\n",
        "    m_vals = {}  # Словарь для значений из матрицы M\n",
        "    n_vals = {}  # Словарь для значений из матрицы N\n",
        "\n",
        "    # Проходим по всем значениям для данной ячейки (i, k)\n",
        "    for matrix_name, first_index, second_index, val in values:\n",
        "        if matrix_name == \"M\":\n",
        "            m_vals[second_index] = val  # Запоминаем значения из матрицы M по индексу столбца\n",
        "        elif matrix_name == \"N\":\n",
        "            n_vals[first_index] = val  # Запоминаем значения из матрицы N по индексу строки\n",
        "\n",
        "    # Суммируем произведения значений из M и N для каждого j\n",
        "    for j in range(J):\n",
        "        m_val = m_vals.get(j, 0)\n",
        "        n_val = n_vals.get(j, 0)\n",
        "        sum_val += m_val * n_val\n",
        "\n",
        "    yield (i, k), sum_val  # Возвращаем итоговое значение для ячейки (i, k)\n",
        "\n",
        "\n",
        "num_reducers = 2  # Примерное количество редьюсеров для распределенной обработки\n",
        "\n",
        "result = MapReduce(RECORDREADER_M, RECORDREADER_N, MAP, REDUCE, num_reducers)\n",
        "\n",
        "# Форматируем результаты в матрицу\n",
        "output_matrix = np.zeros((I, K))  # Создаем пустую матрицу для результата\n",
        "for (i, k), value in result:\n",
        "    output_matrix[i, k] = value  # Заполняем соответствующие ячейки матрицы\n",
        "\n",
        "numpy_matrix = np.matmul(mat_M, mat_N)\n",
        "\n",
        "print(\"Результат MapReduce (распределенно):\")\n",
        "print(output_matrix)\n",
        "print(\"\\nРезультат NumPy:\")\n",
        "print(numpy_matrix)\n",
        "print(\"\\nСовпадают ли результаты?\", np.allclose(output_matrix, numpy_matrix))  # Сравниваем результаты\n"
      ],
      "execution_count": 115,
      "outputs": [
        {
          "output_type": "stream",
          "name": "stdout",
          "text": [
            "Результат MapReduce (распределенно):\n",
            "[[0.89229586 0.96180838 0.98651543 0.66494346 1.00285364 0.41136541\n",
            "  1.13546726 0.67411128 0.53745969 0.46955353 0.98026392 1.29619308\n",
            "  1.71694617 1.2010406  1.06874615 1.03920917 0.61917215 1.56972527\n",
            "  0.96522264 0.93233962 0.80869108 1.21457716 1.47379662 1.18231854\n",
            "  0.77863486 0.57298503 0.85751717 0.63054877 1.03406844 1.22596255\n",
            "  0.9496268  1.10369699 1.19474934 0.89905126 0.52847279 1.1286353\n",
            "  1.10635248 0.74218927 0.29230413 1.11342531]\n",
            " [1.00157314 0.77362302 1.01992121 0.55709547 1.20021261 0.27667588\n",
            "  1.04952951 1.05480231 0.79333921 0.72807054 0.90484056 0.97751694\n",
            "  1.32077899 1.14514116 1.1274559  0.76647005 0.72703404 1.17846751\n",
            "  0.62860983 0.61056561 0.5530291  0.93905465 1.02600372 0.99064258\n",
            "  0.78697053 0.67754684 1.13691617 0.95421392 0.6557252  1.05222945\n",
            "  0.67114065 0.8737367  1.0228684  0.80686375 0.61016131 1.08632702\n",
            "  0.89008233 0.49254561 0.35732872 1.0311972 ]]\n",
            "\n",
            "Результат NumPy:\n",
            "[[0.89229586 0.96180838 0.98651543 0.66494346 1.00285364 0.41136541\n",
            "  1.13546726 0.67411128 0.53745969 0.46955353 0.98026392 1.29619308\n",
            "  1.71694617 1.2010406  1.06874615 1.03920917 0.61917215 1.56972527\n",
            "  0.96522264 0.93233962 0.80869108 1.21457716 1.47379662 1.18231854\n",
            "  0.77863486 0.57298503 0.85751717 0.63054877 1.03406844 1.22596255\n",
            "  0.9496268  1.10369699 1.19474934 0.89905126 0.52847279 1.1286353\n",
            "  1.10635248 0.74218927 0.29230413 1.11342531]\n",
            " [1.00157314 0.77362302 1.01992121 0.55709547 1.20021261 0.27667588\n",
            "  1.04952951 1.05480231 0.79333921 0.72807054 0.90484056 0.97751694\n",
            "  1.32077899 1.14514116 1.1274559  0.76647005 0.72703404 1.17846751\n",
            "  0.62860983 0.61056561 0.5530291  0.93905465 1.02600372 0.99064258\n",
            "  0.78697053 0.67754684 1.13691617 0.95421392 0.6557252  1.05222945\n",
            "  0.67114065 0.8737367  1.0228684  0.80686375 0.61016131 1.08632702\n",
            "  0.89008233 0.49254561 0.35732872 1.0311972 ]]\n",
            "\n",
            "Совпадают ли результаты? True\n"
          ]
        }
      ]
    },
    {
      "cell_type": "markdown",
      "source": [
        "Вывод:\n",
        "\n",
        "Результат MapReduce (распределенно):\n",
        "\n",
        "[[0.89229586 0.96180838 0.98651543 0.66494346 1.00285364 0.41136541\n",
        "  1.13546726 0.67411128 0.53745969 0.46955353 0.98026392 1.29619308\n",
        "  1.71694617 1.2010406  1.06874615 1.03920917 0.61917215 1.56972527\n",
        "  0.96522264 0.93233962 0.80869108 1.21457716 1.47379662 1.18231854\n",
        "  0.77863486 0.57298503 0.85751717 0.63054877 1.03406844 1.22596255\n",
        "  0.9496268  1.10369699 1.19474934 0.89905126 0.52847279 1.1286353\n",
        "  1.10635248 0.74218927 0.29230413 1.11342531]\n",
        " [1.00157314 0.77362302 1.01992121 0.55709547 1.20021261 0.27667588\n",
        "  1.04952951 1.05480231 0.79333921 0.72807054 0.90484056 0.97751694\n",
        "  1.32077899 1.14514116 1.1274559  0.76647005 0.72703404 1.17846751\n",
        "  0.62860983 0.61056561 0.5530291  0.93905465 1.02600372 0.99064258\n",
        "  0.78697053 0.67754684 1.13691617 0.95421392 0.6557252  1.05222945\n",
        "  0.67114065 0.8737367  1.0228684  0.80686375 0.61016131 1.08632702\n",
        "  0.89008233 0.49254561 0.35732872 1.0311972 ]]\n",
        "\n",
        "Результат NumPy:\n",
        "\n",
        "[[0.89229586 0.96180838 0.98651543 0.66494346 1.00285364 0.41136541\n",
        "  1.13546726 0.67411128 0.53745969 0.46955353 0.98026392 1.29619308\n",
        "  1.71694617 1.2010406  1.06874615 1.03920917 0.61917215 1.56972527\n",
        "  0.96522264 0.93233962 0.80869108 1.21457716 1.47379662 1.18231854\n",
        "  0.77863486 0.57298503 0.85751717 0.63054877 1.03406844 1.22596255\n",
        "  0.9496268  1.10369699 1.19474934 0.89905126 0.52847279 1.1286353\n",
        "  1.10635248 0.74218927 0.29230413 1.11342531]\n",
        " [1.00157314 0.77362302 1.01992121 0.55709547 1.20021261 0.27667588\n",
        "  1.04952951 1.05480231 0.79333921 0.72807054 0.90484056 0.97751694\n",
        "  1.32077899 1.14514116 1.1274559  0.76647005 0.72703404 1.17846751\n",
        "  0.62860983 0.61056561 0.5530291  0.93905465 1.02600372 0.99064258\n",
        "  0.78697053 0.67754684 1.13691617 0.95421392 0.6557252  1.05222945\n",
        "  0.67114065 0.8737367  1.0228684  0.80686375 0.61016131 1.08632702\n",
        "  0.89008233 0.49254561 0.35732872 1.0311972 ]]\n",
        "\n",
        "Совпадают ли результаты? True"
      ],
      "metadata": {
        "id": "ZwS3RuM9fOXF"
      }
    },
    {
      "cell_type": "markdown",
      "metadata": {
        "id": "ZuSA2P9Db6UM"
      },
      "source": [
        "Обобщите предыдущее решение на случай, когда каждая матрица генерируется несколькими RECORDREADER-ами, и проверьте его работоспособность. Будет ли работать решение, если RECORDREADER-ы будут генерировать случайное подмножество элементов матрицы?"
      ]
    },
    {
      "cell_type": "code",
      "metadata": {
        "id": "ehN0FqRDcwU5",
        "colab": {
          "base_uri": "https://localhost:8080/"
        },
        "outputId": "7f1cd495-c8c3-4b8e-f72c-1ad332f80394"
      },
      "source": [
        "import numpy as np\n",
        "from typing import Tuple, Iterator, List, Dict\n",
        "from collections import defaultdict\n",
        "import random\n",
        "\n",
        "# Функция для \"выпрямления\" вложенных итераторов\n",
        "def flatten(nested_iterable):\n",
        "    for iterable in nested_iterable:\n",
        "        for element in iterable:\n",
        "            yield element\n",
        "\n",
        "# Функция для группировки данных по ключам (для редьюсера)\n",
        "def groupbykey(iterable):\n",
        "    t = defaultdict(list)\n",
        "    for k2, v2 in iterable:\n",
        "        t[k2].append(v2)\n",
        "    return t.items()\n",
        "\n",
        "# Основная функция MapReduce\n",
        "def MapReduce(RECORDREADER_M, RECORDREADER_N, MAP, REDUCE, num_reducers):\n",
        "    \"\"\"\n",
        "    MapReduce для умножения матриц с несколькими RECORDREADER-ами.\n",
        "    \"\"\"\n",
        "    # Этап Map: Каждый RECORDREADER генерирует данные для своей части матрицы\n",
        "    mapped_M = list(flatten(map(lambda x: MAP(\"M\", *x), RECORDREADER_M())))\n",
        "    mapped_N = list(flatten(map(lambda x: MAP(\"N\", *x), RECORDREADER_N())))\n",
        "\n",
        "    # Объединяем все результаты после Map этапа\n",
        "    mapped_all = mapped_M + mapped_N\n",
        "\n",
        "    # Разбиение данных на партиции для редьюсеров\n",
        "    partitioned = defaultdict(list)\n",
        "    for key, value in mapped_all:\n",
        "        reducer_id = hash(key) % num_reducers  # Хеширование для определения партиции\n",
        "        partitioned[reducer_id].append((key, value))\n",
        "\n",
        "    # Этап Reduce: Каждый редьюсер обрабатывает свою партицию данных\n",
        "    reduced_results = []\n",
        "    for reducer_id in range(num_reducers):\n",
        "        grouped = groupbykey(partitioned[reducer_id])\n",
        "        reduced_results.extend(flatten(map(lambda x: REDUCE(*x), grouped)))\n",
        "\n",
        "    return reduced_results\n",
        "\n",
        "# Размерности матриц для умножения\n",
        "I = 3  # Увеличили для большего теста\n",
        "J = 4\n",
        "K = 2*10\n",
        "\n",
        "# Генерация случайных матриц M и N\n",
        "mat_M = np.random.rand(I, J)\n",
        "mat_N = np.random.rand(J, K)\n",
        "\n",
        "# --- Множество DISTRIBUTED RECORDREADER-ов ---\n",
        "def RECORDREADER_M(num_readers: int, missing_data_probability: float = 0.0):\n",
        "    \"\"\"\n",
        "    Генерирует данные для матрицы M с возможностью пропуска данных.\n",
        "    \"\"\"\n",
        "    for reader_id in range(num_readers):  # Эмулируем несколько читателей\n",
        "        for i in range(mat_M.shape[0]):\n",
        "            for j in range(mat_M.shape[1]):\n",
        "                if random.random() > missing_data_probability:  # Пропуск данных с заданной вероятностью\n",
        "                    yield (i, j), mat_M[i, j]  # Возвращаем индексы и значение\n",
        "\n",
        "def RECORDREADER_N(num_readers: int, missing_data_probability: float = 0.0):\n",
        "    \"\"\"\n",
        "    Генерирует данные для матрицы N с возможностью пропуска данных.\n",
        "    \"\"\"\n",
        "    for reader_id in range(num_readers):  # Эмулируем несколько читателей\n",
        "        for j in range(mat_N.shape[0]):\n",
        "            for k in range(mat_N.shape[1]):\n",
        "                if random.random() > missing_data_probability:  # Пропуск данных с заданной вероятностью\n",
        "                    yield (j, k), mat_N[j, k]  # Возвращаем индексы и значение\n",
        "\n",
        "# --- Функция MAP ---\n",
        "def MAP(matrix_name: str, coords: Tuple[int, int], value: float) -> Iterator[Tuple[Tuple[int, int], Tuple[str, int, int, float]]]:\n",
        "    \"\"\"Генерирует ключ-значение для дальнейшей обработки\"\"\"\n",
        "    if matrix_name == \"M\":\n",
        "        i, j = coords\n",
        "        for k in range(K):  # Проходим по всем столбцам матрицы N\n",
        "            yield (i, k), (\"M\", i, j, value)  # Возвращаем (i, k) и значение из M\n",
        "    elif matrix_name == \"N\":\n",
        "        j, k = coords\n",
        "        for i in range(I):  # Проходим по всем строкам матрицы M\n",
        "            yield (i, k), (\"N\", j, k, value)  # Возвращаем (i, k) и значение из N\n",
        "\n",
        "# --- Функция REDUCE ---\n",
        "def REDUCE(key: Tuple[int, int], values: Iterator[Tuple[str, int, int, float]]) -> Iterator[Tuple[Tuple[int, int], float]] :\n",
        "    \"\"\"Вычисление суммы произведений для каждой ячейки (i, k) результирующей матрицы\"\"\"\n",
        "    i, k = key\n",
        "    sum_val = 0\n",
        "    m_vals = {}\n",
        "    n_vals = {}\n",
        "\n",
        "    # Группируем все данные по ключам для матриц M и N\n",
        "    for matrix_name, first_index, second_index, val in values:\n",
        "        if matrix_name == \"M\":\n",
        "            m_vals[second_index] = val  # Сохраняем значения из матрицы M по индексу столбца\n",
        "        elif matrix_name == \"N\":\n",
        "            n_vals[first_index] = val  # Сохраняем значения из матрицы N по индексу строки\n",
        "\n",
        "    # Суммируем произведения значений из M и N для каждого j\n",
        "    for j in range(J):\n",
        "        mij = m_vals.get(j, 0)  # Получаем значение из M или 0, если отсутствует\n",
        "        njk = n_vals.get(j, 0)  # Получаем значение из N или 0, если отсутствует\n",
        "        sum_val += mij * njk  # Суммируем произведение\n",
        "\n",
        "    yield (i, k), sum_val  # Возвращаем результат для (i, k)\n",
        "\n",
        "# --- Главная часть выполнения ---\n",
        "if __name__ == \"__main__\":\n",
        "    num_reducers = 2  # Количество редьюсеров\n",
        "    num_readers_M = 2  # Количество читателей для матрицы M\n",
        "    num_readers_N = 2  # Количество читателей для матрицы N\n",
        "    missing_data_probability = 0.1  # Вероятность пропуска данных\n",
        "\n",
        "    # Запуск MapReduce (с несколькими RECORDREADER-ами)\n",
        "    result = MapReduce(\n",
        "        lambda: RECORDREADER_M(num_readers_M, missing_data_probability),\n",
        "        lambda: RECORDREADER_N(num_readers_N, missing_data_probability),\n",
        "        MAP,\n",
        "        REDUCE,\n",
        "        num_reducers,\n",
        "    )\n",
        "\n",
        "    # Форматируем результаты в матрицу\n",
        "    output_matrix = np.zeros((I, K))\n",
        "    for (i, k), value in result:\n",
        "        output_matrix[i, k] = value\n",
        "\n",
        "    # Проверка результата с использованием NumPy\n",
        "    numpy_matrix = np.matmul(mat_M, mat_N)\n",
        "\n",
        "    print(\"Результат MapReduce (с несколькими RECORDREADER-ами):\")\n",
        "    print(output_matrix)\n",
        "\n",
        "    print(\"\\nРезультат NumPy:\")\n",
        "    print(numpy_matrix)\n",
        "\n",
        "    print(\"\\nРезультаты совпадают?\", np.allclose(output_matrix, numpy_matrix))  # Проверка на совпадение\n"
      ],
      "execution_count": 211,
      "outputs": [
        {
          "output_type": "stream",
          "name": "stdout",
          "text": [
            "Результат MapReduce (с несколькими RECORDREADER-ами):\n",
            "[[1.30921503 1.37056443 1.71825884 1.21271182 1.67449666 0.57108472\n",
            "  1.19846385 1.58480875 1.21963913 0.61874692 0.96219584 1.32438219\n",
            "  1.13330654 1.22979297 1.51288963 1.02461694 0.95172204 1.07769714\n",
            "  1.2669526  1.746086  ]\n",
            " [1.46929067 1.4927038  2.34821126 1.71813431 2.04314442 1.11785645\n",
            "  1.84556816 2.09283934 1.48642885 0.96754118 1.20277492 1.86157641\n",
            "  1.69690499 1.59006903 2.37486199 1.66467767 1.42397541 1.53611259\n",
            "  1.54935906 2.05976177]\n",
            " [1.23412379 1.2517264  2.09492502 1.52802984 1.77549981 1.06913741\n",
            "  1.70446855 1.83465562 1.30684656 0.87255963 1.01239322 1.62630351\n",
            "  1.53755548 1.43302481 2.16900765 1.52620923 1.29409037 1.29212671\n",
            "  1.39916901 1.78733022]]\n",
            "\n",
            "Результат NumPy:\n",
            "[[1.30921503 1.37056443 1.71825884 1.21271182 1.67449666 0.57108472\n",
            "  1.19846385 1.58480875 1.21963913 0.61874692 0.96219584 1.32438219\n",
            "  1.13330654 1.22979297 1.51288963 1.02461694 0.95172204 1.07769714\n",
            "  1.2669526  1.746086  ]\n",
            " [1.46929067 1.4927038  2.34821126 1.71813431 2.04314442 1.11785645\n",
            "  1.84556816 2.09283934 1.48642885 0.96754118 1.20277492 1.86157641\n",
            "  1.69690499 1.59006903 2.37486199 1.66467767 1.42397541 1.53611259\n",
            "  1.54935906 2.05976177]\n",
            " [1.23412379 1.2517264  2.09492502 1.52802984 1.77549981 1.06913741\n",
            "  1.70446855 1.83465562 1.30684656 0.87255963 1.01239322 1.62630351\n",
            "  1.53755548 1.43302481 2.16900765 1.52620923 1.29409037 1.29212671\n",
            "  1.39916901 1.78733022]]\n",
            "\n",
            "Результаты совпадают? True\n"
          ]
        }
      ]
    },
    {
      "cell_type": "markdown",
      "source": [
        "Вывод:\n",
        "\n",
        "Результат MapReduce (с несколькими RECORDREADER-ами):\n",
        "\n",
        "[[1.30921503 1.37056443 1.71825884 1.21271182 1.67449666 0.57108472\n",
        "  1.19846385 1.58480875 1.21963913 0.61874692 0.96219584 1.32438219\n",
        "  1.13330654 1.22979297 1.51288963 1.02461694 0.95172204 1.07769714\n",
        "  1.2669526  1.746086  ]\n",
        " [1.46929067 1.4927038  2.34821126 1.71813431 2.04314442 1.11785645\n",
        "  1.84556816 2.09283934 1.48642885 0.96754118 1.20277492 1.86157641\n",
        "  1.69690499 1.59006903 2.37486199 1.66467767 1.42397541 1.53611259\n",
        "  1.54935906 2.05976177]\n",
        " [1.23412379 1.2517264  2.09492502 1.52802984 1.77549981 1.06913741\n",
        "  1.70446855 1.83465562 1.30684656 0.87255963 1.01239322 1.62630351\n",
        "  1.53755548 1.43302481 2.16900765 1.52620923 1.29409037 1.29212671\n",
        "  1.39916901 1.78733022]]\n",
        "\n",
        "Результат NumPy:\n",
        "\n",
        "[[1.30921503 1.37056443 1.71825884 1.21271182 1.67449666 0.57108472\n",
        "  1.19846385 1.58480875 1.21963913 0.61874692 0.96219584 1.32438219\n",
        "  1.13330654 1.22979297 1.51288963 1.02461694 0.95172204 1.07769714\n",
        "  1.2669526  1.746086  ]\n",
        " [1.46929067 1.4927038  2.34821126 1.71813431 2.04314442 1.11785645\n",
        "  1.84556816 2.09283934 1.48642885 0.96754118 1.20277492 1.86157641\n",
        "  1.69690499 1.59006903 2.37486199 1.66467767 1.42397541 1.53611259\n",
        "  1.54935906 2.05976177]\n",
        " [1.23412379 1.2517264  2.09492502 1.52802984 1.77549981 1.06913741\n",
        "  1.70446855 1.83465562 1.30684656 0.87255963 1.01239322 1.62630351\n",
        "  1.53755548 1.43302481 2.16900765 1.52620923 1.29409037 1.29212671\n",
        "  1.39916901 1.78733022]]\n",
        "\n",
        "Результаты совпадают? True"
      ],
      "metadata": {
        "id": "JogWGkKalQsS"
      }
    },
    {
      "cell_type": "markdown",
      "source": [
        "Да, с изменениями, описанными выше, он должен работать корректно, даже если средства чтения записей генерируют случайные подмножества элементов матрицы и если эти подмножества являются неполными. Комбинация нескольких средств чтения записей (каждое из которых создает подмножество) и использование .get(j, 0) в функции REDUCE для обработки возможных пропущенных значений делает код устойчивым к этому сценарию."
      ],
      "metadata": {
        "id": "8DVaeNQuEwiq"
      }
    }
  ]
}