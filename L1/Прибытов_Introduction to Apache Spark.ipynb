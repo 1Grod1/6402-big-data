{
  "nbformat": 4,
  "nbformat_minor": 0,
  "metadata": {
    "colab": {
      "provenance": []
    },
    "kernelspec": {
      "name": "python3",
      "display_name": "Python 3"
    },
    "language_info": {
      "name": "python"
    }
  },
  "cells": [
    {
      "cell_type": "markdown",
      "source": [
        "# Подготовка"
      ],
      "metadata": {
        "id": "uqLXYD9crt57"
      }
    },
    {
      "cell_type": "code",
      "execution_count": 16,
      "metadata": {
        "colab": {
          "base_uri": "https://localhost:8080/"
        },
        "id": "1uMr_edzY_Zb",
        "outputId": "f82747a6-3eb4-4a7e-d850-fe4474dc4920"
      },
      "outputs": [
        {
          "output_type": "stream",
          "name": "stdout",
          "text": [
            "\r0% [Working]\r            \rHit:1 https://cloud.r-project.org/bin/linux/ubuntu jammy-cran40/ InRelease\n",
            "\r0% [Connecting to archive.ubuntu.com (185.125.190.82)] [Waiting for headers] [Waiting for headers] [\r                                                                                                    \rHit:2 https://developer.download.nvidia.com/compute/cuda/repos/ubuntu2204/x86_64  InRelease\n",
            "\r0% [Connecting to archive.ubuntu.com (185.125.190.82)] [Waiting for headers] [Waiting for headers] [\r                                                                                                    \rHit:3 https://r2u.stat.illinois.edu/ubuntu jammy InRelease\n",
            "Hit:4 http://security.ubuntu.com/ubuntu jammy-security InRelease\n",
            "Hit:5 http://archive.ubuntu.com/ubuntu jammy InRelease\n",
            "Hit:6 http://archive.ubuntu.com/ubuntu jammy-updates InRelease\n",
            "Hit:7 https://ppa.launchpadcontent.net/deadsnakes/ppa/ubuntu jammy InRelease\n",
            "Hit:8 http://archive.ubuntu.com/ubuntu jammy-backports InRelease\n",
            "Hit:9 https://ppa.launchpadcontent.net/graphics-drivers/ppa/ubuntu jammy InRelease\n",
            "Hit:10 https://ppa.launchpadcontent.net/ubuntugis/ppa/ubuntu jammy InRelease\n",
            "Reading package lists... Done\n",
            "W: Skipping acquire of configured file 'main/source/Sources' as repository 'https://r2u.stat.illinois.edu/ubuntu jammy InRelease' does not seem to provide it (sources.list entry misspelt?)\n",
            "--2025-03-28 06:33:45--  https://archive.apache.org/dist/spark/spark-3.1.1/spark-3.1.1-bin-hadoop3.2.tgz\n",
            "Resolving archive.apache.org (archive.apache.org)... 65.108.204.189, 2a01:4f9:1a:a084::2\n",
            "Connecting to archive.apache.org (archive.apache.org)|65.108.204.189|:443... connected.\n",
            "HTTP request sent, awaiting response... 200 OK\n",
            "Length: 228721937 (218M) [application/x-gzip]\n",
            "Saving to: ‘spark-3.1.1-bin-hadoop3.2.tgz.1’\n",
            "\n",
            "spark-3.1.1-bin-had 100%[===================>] 218.13M  16.6MB/s    in 14s     \n",
            "\n",
            "2025-03-28 06:33:59 (16.1 MB/s) - ‘spark-3.1.1-bin-hadoop3.2.tgz.1’ saved [228721937/228721937]\n",
            "\n"
          ]
        }
      ],
      "source": [
        "# Java\n",
        "!apt-get update # Обновляем список пакетов в системе\n",
        "\n",
        "!apt-get install openjdk-8-jdk-headless -qq > /dev/null # Устанавливаем OpenJDK 8 (Java Development Kit) без графического интерфейса\n",
        "# > /dev/null: Перенаправляет вывод команды в /dev/null (пустое устройство), чтобы скрыть вывод в консоли\n",
        "\n",
        "# Spark\n",
        "!wget https://archive.apache.org/dist/spark/spark-3.1.1/spark-3.1.1-bin-hadoop3.2.tgz # Загружаем архив Spark 3.1.1, предварительно скомпилированный для Hadoop 3.2, с сайта Apache\n",
        "!tar xf spark-3.1.1-bin-hadoop3.2.tgz # Распаковываем архив"
      ]
    },
    {
      "cell_type": "code",
      "source": [
        "# настраеваем переменные окружения\n",
        "import os  # Импортирует модуль для работы с операционной системой\n",
        "\n",
        "os.environ[\"JAVA_HOME\"] = \"/usr/lib/jvm/java-8-openjdk-amd64\"  # Устанавливает переменную окружения JAVA_HOME\n",
        "os.environ[\"SPARK_HOME\"] = \"/content/spark-3.1.1-bin-hadoop3.2\" # Устанавливает переменную окружения SPARK_HOME"
      ],
      "metadata": {
        "id": "sRZ255_5S8xg"
      },
      "execution_count": 17,
      "outputs": []
    },
    {
      "cell_type": "code",
      "source": [
        "# Устанавливаем findspark\n",
        "!pip install -q findspark\n",
        "\n",
        "import findspark\n",
        "findspark.init() # Инициализируем findspark"
      ],
      "metadata": {
        "id": "Hjf36590S71_"
      },
      "execution_count": 18,
      "outputs": []
    },
    {
      "cell_type": "code",
      "source": [
        "\n",
        "# Создание SparkContext\n",
        "from pyspark import SparkContext, SparkConf\n",
        "import pyspark.sql as sql\n",
        "from pyspark.sql import SparkSession\n",
        "from pyspark.sql.types import DoubleType\n",
        "from pyspark.sql.functions import udf, col, max, sum, countDistinct\n",
        "# Создаем SparkSession, который является точкой входа для работы с DataFrames и SQL в Spark\n",
        "spark = SparkSession.builder\\\n",
        "        .master(\"local\")\\\n",
        "        .appName(\"Colab\")\\\n",
        "        .config('spark.ui.port', '4050')\\\n",
        "        .getOrCreate()\n",
        "\n",
        "sc = spark.sparkContext  # Получаем SparkContext из SparkSession, SparkContext - это точка входа в Spark\n",
        "\n",
        "print(sc.version)  # Выводим версию Spark"
      ],
      "metadata": {
        "id": "xZcRH7CUodVK",
        "colab": {
          "base_uri": "https://localhost:8080/"
        },
        "outputId": "0ba382cc-135f-4d57-ef6e-4bc219c3a444"
      },
      "execution_count": 19,
      "outputs": [
        {
          "output_type": "stream",
          "name": "stdout",
          "text": [
            "3.1.1\n"
          ]
        }
      ]
    },
    {
      "cell_type": "code",
      "source": [
        "\n",
        "spark = SparkSession.builder.appName(\"MySparkApp\").getOrCreate() # Создаем SparkSession\n",
        "# Читаем файлы CSV\n",
        "# header=True, чтобы использовать заголовки столбцов\n",
        "trips_df = spark.read.csv(\"trips.csv\", header=True, inferSchema=True)\n",
        "stations_df = spark.read.csv(\"stations.csv\", header=True, inferSchema=True)\n",
        "\n",
        "# Отображаем по 2 строки из каждого файла\n",
        "trips_df.show(n=2)\n",
        "stations_df.show(n=2)"
      ],
      "metadata": {
        "id": "ZCQyM4KDogug",
        "collapsed": true,
        "colab": {
          "base_uri": "https://localhost:8080/"
        },
        "outputId": "e1958a20-46b0-4a98-a9f3-58229646d52c"
      },
      "execution_count": 20,
      "outputs": [
        {
          "output_type": "stream",
          "name": "stdout",
          "text": [
            "+----+--------+---------------+--------------------+----------------+---------------+--------------------+--------------+-------+-----------------+--------+\n",
            "|  id|duration|     start_date|  start_station_name|start_station_id|       end_date|    end_station_name|end_station_id|bike_id|subscription_type|zip_code|\n",
            "+----+--------+---------------+--------------------+----------------+---------------+--------------------+--------------+-------+-----------------+--------+\n",
            "|4576|      63|           null|South Van Ness at...|              66|8/29/2013 14:14|South Van Ness at...|            66|    520|       Subscriber|   94127|\n",
            "|4607|    null|8/29/2013 14:42|  San Jose City Hall|              10|8/29/2013 14:43|  San Jose City Hall|            10|    661|       Subscriber|   95138|\n",
            "+----+--------+---------------+--------------------+----------------+---------------+--------------------+--------------+-------+-----------------+--------+\n",
            "only showing top 2 rows\n",
            "\n",
            "+---+--------------------+---------+-------------------+----------+--------+-----------------+\n",
            "| id|                name|      lat|               long|dock_count|    city|installation_date|\n",
            "+---+--------------------+---------+-------------------+----------+--------+-----------------+\n",
            "|  2|San Jose Diridon ...|37.329732|-121.90178200000001|        27|San Jose|         8/6/2013|\n",
            "|  3|San Jose Civic Ce...|37.330698|        -121.888979|        15|San Jose|         8/5/2013|\n",
            "+---+--------------------+---------+-------------------+----------+--------+-----------------+\n",
            "only showing top 2 rows\n",
            "\n"
          ]
        }
      ]
    },
    {
      "cell_type": "code",
      "source": [
        "# выводим схему данных датафрейма spark соответственно (имена столбцов, типы данных и информация о том, допускает ли столбец значения NULL)\n",
        "print(\"Trips\")\n",
        "trips_df.printSchema()\n",
        "\n",
        "print(\"Stations\")\n",
        "stations_df.printSchema()"
      ],
      "metadata": {
        "id": "5taIHS5AsAdd",
        "colab": {
          "base_uri": "https://localhost:8080/"
        },
        "outputId": "ffea282d-a6f9-461c-c580-ac59de57666c"
      },
      "execution_count": 21,
      "outputs": [
        {
          "output_type": "stream",
          "name": "stdout",
          "text": [
            "Trips\n",
            "root\n",
            " |-- id: integer (nullable = true)\n",
            " |-- duration: integer (nullable = true)\n",
            " |-- start_date: string (nullable = true)\n",
            " |-- start_station_name: string (nullable = true)\n",
            " |-- start_station_id: integer (nullable = true)\n",
            " |-- end_date: string (nullable = true)\n",
            " |-- end_station_name: string (nullable = true)\n",
            " |-- end_station_id: integer (nullable = true)\n",
            " |-- bike_id: integer (nullable = true)\n",
            " |-- subscription_type: string (nullable = true)\n",
            " |-- zip_code: string (nullable = true)\n",
            "\n",
            "Stations\n",
            "root\n",
            " |-- id: integer (nullable = true)\n",
            " |-- name: string (nullable = true)\n",
            " |-- lat: double (nullable = true)\n",
            " |-- long: double (nullable = true)\n",
            " |-- dock_count: integer (nullable = true)\n",
            " |-- city: string (nullable = true)\n",
            " |-- installation_date: string (nullable = true)\n",
            "\n"
          ]
        }
      ]
    },
    {
      "cell_type": "markdown",
      "source": [
        "# Основное задание\n",
        "\n",
        "**Решите следующие задачи для данных велопарковок Сан-Франциско (trips.csv, stations.csv):**\n",
        "\n",
        "1.   Найти велосипед с максимальным временем пробега.\n",
        "2.   Найти наибольшее геодезическое расстояние между станциями.\n",
        "3.   Найти путь велосипеда с максимальным временем пробега через станции.\n",
        "4.   Найти количество велосипедов в системе.\n",
        "5.   Найти пользователей потративших на поездки более 3 часов.\n",
        "\n",
        "---\n",
        "\n"
      ],
      "metadata": {
        "id": "I88tHeIgqy6j"
      }
    },
    {
      "cell_type": "markdown",
      "source": [
        "1.   Найти велосипед с максимальным временем пробега."
      ],
      "metadata": {
        "id": "ussSqJdcqs5S"
      }
    },
    {
      "cell_type": "code",
      "source": [
        "# Ищем максимальное время пробега (duration)\n",
        "max_duration = trips_df.agg(max(\"duration\")).collect()[0][0]\n",
        "\n",
        "# Ищем велосипед (bike_id) с этим максимальным временем пробега\n",
        "bike_with_max_duration_df = trips_df.filter(trips_df.duration == max_duration)\n",
        "\n",
        "# Получаем ID велосипеда из DataFrame\n",
        "bike_id = bike_with_max_duration_df.select(\"bike_id\").first()[0]\n",
        "\n",
        "print(f\"ID байка: {bike_id}\\n Время пробега: {max_duration}\")"
      ],
      "metadata": {
        "id": "cEdzgxMuqqvt",
        "colab": {
          "base_uri": "https://localhost:8080/"
        },
        "outputId": "f1bd82ee-b0f3-440b-b56b-2f4d066793df"
      },
      "execution_count": 22,
      "outputs": [
        {
          "output_type": "stream",
          "name": "stdout",
          "text": [
            "ID байка: 535\n",
            " Время пробега: 17270400\n"
          ]
        }
      ]
    },
    {
      "cell_type": "markdown",
      "source": [
        "2.   Найти наибольшее геодезическое расстояние между станциями.\n"
      ],
      "metadata": {
        "id": "8Mdw9JDWqtNw"
      }
    },
    {
      "cell_type": "code",
      "source": [
        "from pyspark.sql import SparkSession\n",
        "from pyspark.sql.functions import max, radians, sin, cos, sqrt, atan2, col, asin\n",
        "\n",
        "# Создаем пары станций\n",
        "station_pairs = stations_df.alias(\"st1\").crossJoin(stations_df.alias(\"st2\")).filter(col(\"st1.id\") < col(\"st2.id\"))\n",
        "\n",
        "# Вычисляем расстояние между станциями по формуле Хаверсина с учётом кривизны земли\n",
        "distance = sin(radians(col(\"st2.lat\") - col(\"st1.lat\")) / 2)**2 + cos(radians(col(\"st1.lat\"))) * cos(radians(col(\"st2.lat\"))) * sin(radians(col(\"st2.long\") - col(\"st1.long\")) / 2)**2\n",
        "distance = 2 * 6371.0 * asin(sqrt(distance))\n",
        "\n",
        "# Вычисляем максимальное расстояние между станциями\n",
        "max_distance = station_pairs.select((distance).alias(\"distance\")).agg(max(\"distance\")).collect()[0][0]\n",
        "\n",
        "print(f\"Наибольшее геодезическое расстояние между станциями = {max_distance:.2f}\")"
      ],
      "metadata": {
        "id": "IKYtn9tiqrOw",
        "colab": {
          "base_uri": "https://localhost:8080/"
        },
        "outputId": "cfd32565-6f92-495e-b445-84e097d3f563"
      },
      "execution_count": 29,
      "outputs": [
        {
          "output_type": "stream",
          "name": "stdout",
          "text": [
            "Наибольшее геодезическое расстояние между станциями = 69.92\n"
          ]
        }
      ]
    },
    {
      "cell_type": "markdown",
      "source": [
        "3.   Найти путь велосипеда с максимальным временем пробега через станции.\n"
      ],
      "metadata": {
        "id": "fIcwI1svquMI"
      }
    },
    {
      "cell_type": "code",
      "source": [
        "# Сортировка по столбцу duration и выбор наиболее длительной поездки\n",
        "max_duration = trips_df.select(\"start_station_name\", \"end_station_name\", \"duration\").orderBy(col(\"duration\").desc()).first()\n",
        "\n",
        "\n",
        "start_location = max_duration[\"start_station_name\"]# Находим стартовую станцию\n",
        "end_location = max_duration[\"end_station_name\"]# Находим конечную станцию\n",
        "trip_time = max_duration[\"duration\"] # максимальное время поездки\n",
        "\n",
        "print(f\"Самый продолжительный пробег: {trip_time}секунд \\nПуть был из {start_location} в {end_location}\")\n"
      ],
      "metadata": {
        "id": "J0HMjfELqrb3",
        "colab": {
          "base_uri": "https://localhost:8080/"
        },
        "outputId": "970f897b-a716-4fc5-df3a-33dd9c2d55c6"
      },
      "execution_count": 30,
      "outputs": [
        {
          "output_type": "stream",
          "name": "stdout",
          "text": [
            "Самый продолжительный пробег: 17270400секунд \n",
            "Путь был из South Van Ness at Market в 2nd at Folsom\n"
          ]
        }
      ]
    },
    {
      "cell_type": "markdown",
      "source": [
        "4.   Найти количество велосипедов в системе.\n"
      ],
      "metadata": {
        "id": "nJwrQz02qu_v"
      }
    },
    {
      "cell_type": "code",
      "source": [
        "# Находим количество уникальных велосипедов\n",
        "unique_bikes_count = trips_df.select(\"bike_id\").distinct().count()\n",
        "print(f\"Количество велосипедов в системе: {unique_bikes_count}\")"
      ],
      "metadata": {
        "id": "4mO0lMywqrsa",
        "colab": {
          "base_uri": "https://localhost:8080/"
        },
        "outputId": "7bd7e576-b899-48ba-baa8-5d8730462ce4"
      },
      "execution_count": 25,
      "outputs": [
        {
          "output_type": "stream",
          "name": "stdout",
          "text": [
            "Количество велосипедов в системе: 700\n"
          ]
        }
      ]
    },
    {
      "cell_type": "markdown",
      "source": [
        "5.   Найти пользователей потративших на поездки более 3 часов."
      ],
      "metadata": {
        "id": "j6C0QubNqvfW"
      }
    },
    {
      "cell_type": "code",
      "source": [
        "long_duration_trips = trips_df.filter(col(\"duration\") > 3*60*60)# Фильтруем пользователей, отбираем потративших более 3 часов на поездки\n",
        "long_duration_trips.show()# выводим результаты"
      ],
      "metadata": {
        "id": "dAfcJhYw228m",
        "colab": {
          "base_uri": "https://localhost:8080/"
        },
        "outputId": "5cc97404-f119-4479-b609-1fef4e61fc42"
      },
      "execution_count": 26,
      "outputs": [
        {
          "output_type": "stream",
          "name": "stdout",
          "text": [
            "+----+--------+---------------+--------------------+----------------+---------------+--------------------+--------------+-------+-----------------+--------+\n",
            "|  id|duration|     start_date|  start_station_name|start_station_id|       end_date|    end_station_name|end_station_id|bike_id|subscription_type|zip_code|\n",
            "+----+--------+---------------+--------------------+----------------+---------------+--------------------+--------------+-------+-----------------+--------+\n",
            "|4639|   11118|8/29/2013 15:18|       Market at 4th|              76|8/29/2013 18:23|       Market at 4th|            76|    433|         Customer|    null|\n",
            "|4637|   11272|8/29/2013 15:17|       Market at 4th|              76|8/29/2013 18:25|       Market at 4th|            76|    377|         Customer|    null|\n",
            "|4528|   12280|8/29/2013 13:39|Paseo de San Antonio|               7|8/29/2013 17:04|    Adobe on Almaden|             5|    645|       Subscriber|   94536|\n",
            "|4363|   15244|8/29/2013 12:23|       Market at 4th|              76|8/29/2013 16:37|  Powell Street BART|            39|    434|         Customer|    null|\n",
            "|4193|   18192|8/29/2013 11:04|Embarcadero at Va...|              48|8/29/2013 16:08|   Market at Sansome|            77|    501|         Customer|   72150|\n",
            "|4190|   18240|8/29/2013 11:04|Embarcadero at Va...|              48|8/29/2013 16:08|   Market at Sansome|            77|    614|         Customer|   72150|\n",
            "|4225|   21612|8/29/2013 11:18|  Powell Street BART|              39|8/29/2013 17:18|      Market at 10th|            67|    464|         Customer|   58553|\n",
            "|4663|   52698|8/29/2013 15:34|Mountain View Cit...|              27| 8/30/2013 6:12|       Park at Olive|            38|    150|       Subscriber|   94301|\n",
            "|4532|   84990|8/29/2013 13:43|       Market at 4th|              76|8/30/2013 13:19|Harry Bridges Pla...|            50|    460|         Customer|   94118|\n",
            "|4521|   85385|8/29/2013 13:37|       Market at 4th|              76|8/30/2013 13:20|Harry Bridges Pla...|            50|    390|         Customer|   94118|\n",
            "|5069|   86102|8/29/2013 21:41|Embarcadero at Fo...|              51|8/30/2013 21:37|    Davis at Jackson|            42|    269|         Customer|   94111|\n",
            "|4505|   97713|8/29/2013 13:30|Mountain View Cal...|              28|8/30/2013 16:38|Mountain View Cit...|            27|    141|       Subscriber|   94039|\n",
            "|5539|   10805|8/30/2013 12:32|     Post at Kearney|              47|8/30/2013 15:32|Grant Avenue at C...|            73|    484|         Customer|   94133|\n",
            "|6032|   10963|8/30/2013 16:05|Embarcadero at Va...|              48|8/30/2013 19:08|Harry Bridges Pla...|            50|    458|         Customer|   94538|\n",
            "|6409|   12408|8/30/2013 19:54|    San Pedro Square|               6|8/30/2013 23:21|           Japantown|             9|    638|         Customer|   95112|\n",
            "|6408|   12459|8/30/2013 19:53|    San Pedro Square|               6|8/30/2013 23:21|           Japantown|             9|    640|         Customer|   93726|\n",
            "|5697|   12562|8/30/2013 13:38|Harry Bridges Pla...|              50|8/30/2013 17:08|Powell at Post (U...|            71|    627|         Customer|    1945|\n",
            "|5683|   12875|8/30/2013 13:33|Harry Bridges Pla...|              50|8/30/2013 17:07|Powell at Post (U...|            71|    552|         Customer|    1945|\n",
            "|5218|   13809| 8/30/2013 9:50|   Market at Sansome|              77|8/30/2013 13:40|Harry Bridges Pla...|            50|    608|         Customer|   75225|\n",
            "|5716|   14545|8/30/2013 13:53|Mechanics Plaza (...|              75|8/30/2013 17:56|Embarcadero at Sa...|            60|    439|         Customer|   94123|\n",
            "+----+--------+---------------+--------------------+----------------+---------------+--------------------+--------------+-------+-----------------+--------+\n",
            "only showing top 20 rows\n",
            "\n"
          ]
        }
      ]
    },
    {
      "cell_type": "code",
      "source": [
        "# Остановка SparkSession\n",
        "spark.stop()"
      ],
      "metadata": {
        "id": "5-9zgUbpX2Ps"
      },
      "execution_count": 12,
      "outputs": []
    }
  ]
}